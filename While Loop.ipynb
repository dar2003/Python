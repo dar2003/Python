{
 "cells": [
  {
   "cell_type": "markdown",
   "id": "35bbd9ab-d0a8-4fad-b617-807eac92634b",
   "metadata": {},
   "source": [
    "**WHILE LOOP**"
   ]
  },
  {
   "cell_type": "markdown",
   "id": "19c8b59d-a432-489c-96e4-6f9002b3ccd9",
   "metadata": {},
   "source": [
    "**A while loop in Python repeatedly executes a block of code as long as a specified condition is True. It is useful when the number of iterations is not known in advance and you want the loop to continue running until a certain condition is met**"
   ]
  },
  {
   "cell_type": "code",
   "execution_count": 1,
   "id": "5eb6de62-1022-4c68-ac4c-4697b41fdfbd",
   "metadata": {},
   "outputs": [
    {
     "name": "stdout",
     "output_type": "stream",
     "text": [
      "1\n",
      "3\n",
      "5\n",
      "7\n",
      "9\n"
     ]
    }
   ],
   "source": [
    "x = 1\n",
    "while x < 10:\n",
    "  print(x)\n",
    "  x += 2"
   ]
  },
  {
   "cell_type": "code",
   "execution_count": 3,
   "id": "bc3e78ce-8ddd-4fb6-aba4-d67aa886dbc0",
   "metadata": {},
   "outputs": [
    {
     "name": "stdout",
     "output_type": "stream",
     "text": [
      "1\n",
      "4\n",
      "7\n"
     ]
    }
   ],
   "source": [
    "x = 1\n",
    "while x < 10:\n",
    "  print(x)\n",
    "  x += 3"
   ]
  },
  {
   "cell_type": "code",
   "execution_count": 5,
   "id": "4dd1b281-54ca-4491-9f67-ce931c56893e",
   "metadata": {},
   "outputs": [
    {
     "name": "stdout",
     "output_type": "stream",
     "text": [
      "1\n",
      "2\n",
      "3\n",
      "4\n",
      "5\n"
     ]
    }
   ],
   "source": [
    "x = 1\n",
    "while x < 10:\n",
    " print(x)\n",
    " if x==5:\n",
    "  break\n",
    " x += 1"
   ]
  },
  {
   "cell_type": "code",
   "execution_count": 7,
   "id": "19ef1b72-fdf1-4056-8b4e-e8fcbe0f0b7b",
   "metadata": {},
   "outputs": [
    {
     "name": "stdout",
     "output_type": "stream",
     "text": [
      "2\n",
      "3\n",
      "4\n",
      "6\n",
      "7\n",
      "8\n",
      "9\n",
      "10\n"
     ]
    }
   ],
   "source": [
    "x = 1\n",
    "while x < 10:\n",
    "  x += 1\n",
    "  if x == 5:\n",
    "    continue\n",
    "  print(x)"
   ]
  },
  {
   "cell_type": "code",
   "execution_count": 9,
   "id": "9b7ea9cf-2c7f-428f-9bfc-4d26ed6f568b",
   "metadata": {},
   "outputs": [
    {
     "name": "stdout",
     "output_type": "stream",
     "text": [
      "2\n",
      "3\n",
      "4\n",
      "5\n",
      "6\n",
      "7\n",
      "8\n",
      "9\n",
      "10\n"
     ]
    }
   ],
   "source": [
    "x = 1\n",
    "while x < 10:\n",
    "  x += 1\n",
    "  print(x)\n",
    "  if x == 5:\n",
    "    continue"
   ]
  },
  {
   "cell_type": "code",
   "execution_count": 11,
   "id": "913e3b8b-3e47-4864-b7a6-6c7758eb4a1f",
   "metadata": {},
   "outputs": [
    {
     "name": "stdout",
     "output_type": "stream",
     "text": [
      "1\n",
      "2\n",
      "3\n",
      "4\n",
      "5\n",
      "6\n",
      "7\n",
      "8\n",
      "9\n"
     ]
    }
   ],
   "source": [
    "x = 1\n",
    "while x in range(10):\n",
    "  print(x)\n",
    "  x += 1"
   ]
  },
  {
   "cell_type": "code",
   "execution_count": 13,
   "id": "0df1c901-8184-4697-970f-0bd586d4059a",
   "metadata": {},
   "outputs": [
    {
     "name": "stdout",
     "output_type": "stream",
     "text": [
      "x-> 1 y-> 1 x + y -> 2\n",
      "x-> 1 y-> 2 x + y -> 3\n",
      "x-> 1 y-> 3 x + y -> 4\n",
      "x-> 1 y-> 4 x + y -> 5\n",
      "\n",
      "\n",
      "x-> 2 y-> 1 x + y -> 3\n",
      "x-> 2 y-> 2 x + y -> 4\n",
      "x-> 2 y-> 3 x + y -> 5\n",
      "x-> 2 y-> 4 x + y -> 6\n",
      "\n",
      "\n",
      "x-> 3 y-> 1 x + y -> 4\n",
      "x-> 3 y-> 2 x + y -> 5\n",
      "x-> 3 y-> 3 x + y -> 6\n",
      "x-> 3 y-> 4 x + y -> 7\n",
      "\n",
      "\n",
      "x-> 4 y-> 1 x + y -> 5\n",
      "x-> 4 y-> 2 x + y -> 6\n",
      "x-> 4 y-> 3 x + y -> 7\n",
      "x-> 4 y-> 4 x + y -> 8\n",
      "\n",
      "\n"
     ]
    }
   ],
   "source": [
    "x = 1\n",
    "while x < 5 :\n",
    "    y = 1\n",
    "    while  y < 5 :\n",
    "        print('x->',x,'y->',y,'x + y ->',x+y)\n",
    "        y += 1\n",
    "    print(\"\\n\")\n",
    "    x += 1"
   ]
  },
  {
   "cell_type": "code",
   "execution_count": null,
   "id": "9a408c83-17a1-4efd-97eb-0db08129f204",
   "metadata": {},
   "outputs": [],
   "source": []
  }
 ],
 "metadata": {
  "kernelspec": {
   "display_name": "Python 3 (ipykernel)",
   "language": "python",
   "name": "python3"
  },
  "language_info": {
   "codemirror_mode": {
    "name": "ipython",
    "version": 3
   },
   "file_extension": ".py",
   "mimetype": "text/x-python",
   "name": "python",
   "nbconvert_exporter": "python",
   "pygments_lexer": "ipython3",
   "version": "3.12.4"
  }
 },
 "nbformat": 4,
 "nbformat_minor": 5
}
