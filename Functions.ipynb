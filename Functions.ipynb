{
 "cells": [
  {
   "cell_type": "markdown",
   "id": "fea6d430-3cb4-45f2-b2f8-b5c2119244af",
   "metadata": {},
   "source": [
    "**functions are blocks of reusable code that perform a specific task. They allow you to break your code into smaller, modular chunks, making it easier to understand, maintain, and reuse.**"
   ]
  },
  {
   "cell_type": "code",
   "execution_count": 1,
   "id": "02f4dd1d-bcf8-491a-8491-2facf8dc0d38",
   "metadata": {},
   "outputs": [],
   "source": [
    "def function1():\n",
    "  print(\"Hello and Welcome Dosto\")"
   ]
  },
  {
   "cell_type": "code",
   "execution_count": 3,
   "id": "cf67880a-7505-4084-9c01-93562382d872",
   "metadata": {},
   "outputs": [
    {
     "name": "stdout",
     "output_type": "stream",
     "text": [
      "Hello and Welcome Dosto\n"
     ]
    }
   ],
   "source": [
    "function1()"
   ]
  },
  {
   "cell_type": "code",
   "execution_count": 5,
   "id": "de303340-5c5e-49b0-a2dd-39f2454b9c60",
   "metadata": {},
   "outputs": [
    {
     "name": "stdout",
     "output_type": "stream",
     "text": [
      "Hello and Welcome Dosto to dsa course\n"
     ]
    }
   ],
   "source": [
    "def function2(plus):\n",
    "  print(\"Hello and Welcome Dosto\",plus)\n",
    "\n",
    "function2('to dsa course')"
   ]
  },
  {
   "cell_type": "code",
   "execution_count": 7,
   "id": "3e26470f-dfd7-43bf-b756-476ec3d4440e",
   "metadata": {},
   "outputs": [
    {
     "name": "stdout",
     "output_type": "stream",
     "text": [
      "Hello and Welcome Dostoto 5 minutes engineering\n"
     ]
    }
   ],
   "source": [
    "def function2(plus):\n",
    "  print(\"Hello and Welcome Dosto\" + plus)\n",
    "\n",
    "function2('to 5 minutes engineering')"
   ]
  },
  {
   "cell_type": "code",
   "execution_count": 11,
   "id": "f540d95f-d2f4-4de5-8154-4a5af45c6f31",
   "metadata": {},
   "outputs": [
    {
     "name": "stdout",
     "output_type": "stream",
     "text": [
      "darshil shah\n"
     ]
    }
   ],
   "source": [
    "def name(fname,lname):\n",
    "  print(fname + \" \" + lname)\n",
    "\n",
    "name('darshil','shah')"
   ]
  },
  {
   "cell_type": "code",
   "execution_count": 13,
   "id": "2fd060cc-a6a6-4701-969a-605994cebf79",
   "metadata": {},
   "outputs": [
    {
     "name": "stdout",
     "output_type": "stream",
     "text": [
      "dipak shah\n"
     ]
    }
   ],
   "source": [
    "name('dipak','shah')"
   ]
  },
  {
   "cell_type": "code",
   "execution_count": 15,
   "id": "29a089ce-61ca-4d42-b554-0eb02618cb10",
   "metadata": {},
   "outputs": [
    {
     "name": "stdout",
     "output_type": "stream",
     "text": [
      "Hello and Welcome Dosto to 5 minutes engineering and to dsa course\n"
     ]
    }
   ],
   "source": [
    "def function2(*plus):\n",
    "  print(\"Hello and Welcome Dosto\", plus[0],plus[1],plus[2] )\n",
    "\n",
    "function2('to 5 minutes engineering','and','to dsa course')"
   ]
  },
  {
   "cell_type": "code",
   "execution_count": 17,
   "id": "6a7a0f11-4a58-4c37-a1cd-44284fa4a382",
   "metadata": {},
   "outputs": [
    {
     "name": "stdout",
     "output_type": "stream",
     "text": [
      "darshil shah\n"
     ]
    }
   ],
   "source": [
    "def name1(lname,fname):\n",
    "  print(fname + \" \" + lname)\n",
    "\n",
    "name1(fname = 'darshil',lname = 'shah')"
   ]
  },
  {
   "cell_type": "code",
   "execution_count": 19,
   "id": "81dbafbd-56e0-403d-a8aa-fbef22639526",
   "metadata": {},
   "outputs": [
    {
     "name": "stdout",
     "output_type": "stream",
     "text": [
      "darshil shah\n"
     ]
    }
   ],
   "source": [
    "def name2(**student):\n",
    "  print(student['fname'] + \" \" + student['lname'])\n",
    "\n",
    "name2(fname = 'darshil',lname = 'shah')"
   ]
  },
  {
   "cell_type": "code",
   "execution_count": null,
   "id": "eeee70cc-e277-4fe3-b1fc-a54fc1a55a06",
   "metadata": {},
   "outputs": [],
   "source": [
    "def name3(**students):\n",
    "  print(students['s1'],students['s2'],students['s3'])\n",
    "\n",
    "name3(s1 = 'shridhar',s2 = 'rajendra',s3 = 'sonal')"
   ]
  }
 ],
 "metadata": {
  "kernelspec": {
   "display_name": "Python 3 (ipykernel)",
   "language": "python",
   "name": "python3"
  },
  "language_info": {
   "codemirror_mode": {
    "name": "ipython",
    "version": 3
   },
   "file_extension": ".py",
   "mimetype": "text/x-python",
   "name": "python",
   "nbconvert_exporter": "python",
   "pygments_lexer": "ipython3",
   "version": "3.12.4"
  }
 },
 "nbformat": 4,
 "nbformat_minor": 5
}
