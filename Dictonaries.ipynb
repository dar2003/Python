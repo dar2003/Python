{
 "cells": [
  {
   "cell_type": "markdown",
   "id": "e22843a8-0d99-480f-bcda-785b06feda0c",
   "metadata": {},
   "source": [
    "**a dictionary is a built-in data type that allows you to store and manage data as key-value pairs. Each key is unique, and it maps to a specific value**"
   ]
  },
  {
   "cell_type": "code",
   "execution_count": 1,
   "id": "d370b2e4-acc7-45b3-85b6-4f20428c24ff",
   "metadata": {},
   "outputs": [],
   "source": [
    "dict1 = {\n",
    "  \"name\"  : \"Darshil\",\n",
    "  \"rollno\": 5,\n",
    "  \"PASS\"  : True\n",
    "}"
   ]
  },
  {
   "cell_type": "code",
   "execution_count": 3,
   "id": "6e4032be-c0c7-4d99-970a-7936d9c333ea",
   "metadata": {},
   "outputs": [
    {
     "data": {
      "text/plain": [
       "{'name': 'Darshil', 'rollno': 5, 'PASS': True}"
      ]
     },
     "execution_count": 3,
     "metadata": {},
     "output_type": "execute_result"
    }
   ],
   "source": [
    "dict1"
   ]
  },
  {
   "cell_type": "code",
   "execution_count": 5,
   "id": "c392bf0c-d0ba-456e-afc5-988d8701a643",
   "metadata": {},
   "outputs": [],
   "source": [
    "dict2 = {\n",
    "    \"name\" : 'xyz',\n",
    "    \"name\" : 'abc'\n",
    "}"
   ]
  },
  {
   "cell_type": "code",
   "execution_count": 7,
   "id": "d0764025-61f3-499f-8811-3dc567ec8888",
   "metadata": {},
   "outputs": [
    {
     "data": {
      "text/plain": [
       "{'name': 'abc'}"
      ]
     },
     "execution_count": 7,
     "metadata": {},
     "output_type": "execute_result"
    }
   ],
   "source": [
    "dict2"
   ]
  },
  {
   "cell_type": "code",
   "execution_count": 9,
   "id": "cc0c8df7-9226-463d-befb-168318044461",
   "metadata": {},
   "outputs": [
    {
     "data": {
      "text/plain": [
       "'Darshil'"
      ]
     },
     "execution_count": 9,
     "metadata": {},
     "output_type": "execute_result"
    }
   ],
   "source": [
    "dict1['name']"
   ]
  },
  {
   "cell_type": "code",
   "execution_count": 11,
   "id": "98829c1e-2747-4943-9e1c-e1a17a8199f8",
   "metadata": {},
   "outputs": [],
   "source": [
    "dict3 = {\n",
    "    'sports_id'   : 1,\n",
    "    \"sports_name\" : 'cricket',\n",
    "    'score1'      : [20,40,70,2],\n",
    "    'score2'      : (1,2,3,4,5),\n",
    "    'score3'      : {10,20,30,40,50}\n",
    "}"
   ]
  },
  {
   "cell_type": "code",
   "execution_count": 13,
   "id": "5afd8fe5-2523-40af-bc24-7776be881ea9",
   "metadata": {},
   "outputs": [
    {
     "data": {
      "text/plain": [
       "{'sports_id': 1,\n",
       " 'sports_name': 'cricket',\n",
       " 'score1': [20, 40, 70, 2],\n",
       " 'score2': (1, 2, 3, 4, 5),\n",
       " 'score3': {10, 20, 30, 40, 50}}"
      ]
     },
     "execution_count": 13,
     "metadata": {},
     "output_type": "execute_result"
    }
   ],
   "source": [
    "dict3"
   ]
  },
  {
   "cell_type": "code",
   "execution_count": 15,
   "id": "ff7d2ea8-f38e-4592-833c-4e93b9dd6d6a",
   "metadata": {},
   "outputs": [],
   "source": [
    "dict4 = dict(product_id = 1, product_name = 'xyz', product_price = 999)"
   ]
  },
  {
   "cell_type": "code",
   "execution_count": 17,
   "id": "429a924d-3549-41df-bf33-9cba039e1558",
   "metadata": {},
   "outputs": [
    {
     "data": {
      "text/plain": [
       "{'product_id': 1, 'product_name': 'xyz', 'product_price': 999}"
      ]
     },
     "execution_count": 17,
     "metadata": {},
     "output_type": "execute_result"
    }
   ],
   "source": [
    "dict4"
   ]
  },
  {
   "cell_type": "code",
   "execution_count": 19,
   "id": "f81f4311-5a0e-4397-bb3b-f6cd8660a74b",
   "metadata": {},
   "outputs": [
    {
     "data": {
      "text/plain": [
       "dict_keys(['sports_id', 'sports_name', 'score1', 'score2', 'score3'])"
      ]
     },
     "execution_count": 19,
     "metadata": {},
     "output_type": "execute_result"
    }
   ],
   "source": [
    "dict3.keys()"
   ]
  },
  {
   "cell_type": "code",
   "execution_count": 21,
   "id": "eae1b29e-701b-470d-aa64-68b6675eac57",
   "metadata": {},
   "outputs": [],
   "source": [
    "dict3['win'] = True"
   ]
  },
  {
   "cell_type": "code",
   "execution_count": 23,
   "id": "914f883e-bed6-4b5e-a555-bfb259ce4ab0",
   "metadata": {},
   "outputs": [
    {
     "data": {
      "text/plain": [
       "dict_keys(['sports_id', 'sports_name', 'score1', 'score2', 'score3', 'win'])"
      ]
     },
     "execution_count": 23,
     "metadata": {},
     "output_type": "execute_result"
    }
   ],
   "source": [
    "dict3.keys()"
   ]
  },
  {
   "cell_type": "code",
   "execution_count": 25,
   "id": "77435777-6706-4758-972c-036d9b1222b2",
   "metadata": {},
   "outputs": [
    {
     "data": {
      "text/plain": [
       "dict_values([1, 'cricket', [20, 40, 70, 2], (1, 2, 3, 4, 5), {50, 20, 40, 10, 30}, True])"
      ]
     },
     "execution_count": 25,
     "metadata": {},
     "output_type": "execute_result"
    }
   ],
   "source": [
    "dict3.values()"
   ]
  },
  {
   "cell_type": "code",
   "execution_count": 27,
   "id": "d3819ba9-9a67-41ed-a7ec-e6afe75fa2b1",
   "metadata": {},
   "outputs": [],
   "source": [
    "dict3['win'] = False"
   ]
  },
  {
   "cell_type": "code",
   "execution_count": 29,
   "id": "ac85bf3c-50cc-45ac-b5bb-741febe6fe7b",
   "metadata": {},
   "outputs": [
    {
     "data": {
      "text/plain": [
       "dict_values([1, 'cricket', [20, 40, 70, 2], (1, 2, 3, 4, 5), {50, 20, 40, 10, 30}, False])"
      ]
     },
     "execution_count": 29,
     "metadata": {},
     "output_type": "execute_result"
    }
   ],
   "source": [
    "dict3.values()"
   ]
  },
  {
   "cell_type": "code",
   "execution_count": 31,
   "id": "6ecb7c71-c237-461d-9040-06889a4e74f9",
   "metadata": {},
   "outputs": [
    {
     "data": {
      "text/plain": [
       "dict_items([('sports_id', 1), ('sports_name', 'cricket'), ('score1', [20, 40, 70, 2]), ('score2', (1, 2, 3, 4, 5)), ('score3', {50, 20, 40, 10, 30}), ('win', False)])"
      ]
     },
     "execution_count": 31,
     "metadata": {},
     "output_type": "execute_result"
    }
   ],
   "source": [
    "dict3.items()"
   ]
  },
  {
   "cell_type": "code",
   "execution_count": 33,
   "id": "407087fc-89e0-4dc7-8f04-81e346297f70",
   "metadata": {},
   "outputs": [],
   "source": [
    "dict3.update({'win' : True})"
   ]
  },
  {
   "cell_type": "code",
   "execution_count": 35,
   "id": "328631ba-19e5-4ef8-8b28-033d6c0f29c0",
   "metadata": {},
   "outputs": [
    {
     "data": {
      "text/plain": [
       "{'sports_id': 1,\n",
       " 'sports_name': 'cricket',\n",
       " 'score1': [20, 40, 70, 2],\n",
       " 'score2': (1, 2, 3, 4, 5),\n",
       " 'score3': {10, 20, 30, 40, 50},\n",
       " 'win': True}"
      ]
     },
     "execution_count": 35,
     "metadata": {},
     "output_type": "execute_result"
    }
   ],
   "source": [
    "dict4 = dict3.copy()\n",
    "dict4"
   ]
  },
  {
   "cell_type": "code",
   "execution_count": 37,
   "id": "dc2a4023-096d-490f-b867-7627b4225a09",
   "metadata": {},
   "outputs": [
    {
     "data": {
      "text/plain": [
       "{'sports_id': 1,\n",
       " 'sports_name': 'cricket',\n",
       " 'score1': [20, 40, 70, 2],\n",
       " 'score2': (1, 2, 3, 4, 5),\n",
       " 'score3': {10, 20, 30, 40, 50},\n",
       " 'win': True}"
      ]
     },
     "execution_count": 37,
     "metadata": {},
     "output_type": "execute_result"
    }
   ],
   "source": [
    "dict3"
   ]
  },
  {
   "cell_type": "code",
   "execution_count": 39,
   "id": "64e6becd-68ba-4ad6-b054-adfeaf8d26f7",
   "metadata": {},
   "outputs": [
    {
     "data": {
      "text/plain": [
       "True"
      ]
     },
     "execution_count": 39,
     "metadata": {},
     "output_type": "execute_result"
    }
   ],
   "source": [
    "dict3.pop('win')"
   ]
  },
  {
   "cell_type": "code",
   "execution_count": 41,
   "id": "88dba735-0ea9-4b49-841f-fe662770f952",
   "metadata": {},
   "outputs": [
    {
     "data": {
      "text/plain": [
       "{'sports_id': 1,\n",
       " 'sports_name': 'cricket',\n",
       " 'score1': [20, 40, 70, 2],\n",
       " 'score2': (1, 2, 3, 4, 5),\n",
       " 'score3': {10, 20, 30, 40, 50}}"
      ]
     },
     "execution_count": 41,
     "metadata": {},
     "output_type": "execute_result"
    }
   ],
   "source": [
    "dict3"
   ]
  },
  {
   "cell_type": "code",
   "execution_count": 43,
   "id": "93aaaf5d-0a6d-423e-8ee3-24390bcdb936",
   "metadata": {},
   "outputs": [
    {
     "data": {
      "text/plain": [
       "('score3', {10, 20, 30, 40, 50})"
      ]
     },
     "execution_count": 43,
     "metadata": {},
     "output_type": "execute_result"
    }
   ],
   "source": [
    "dict3.popitem()"
   ]
  },
  {
   "cell_type": "code",
   "execution_count": 45,
   "id": "5975386e-d833-45da-a033-aa21b914594e",
   "metadata": {},
   "outputs": [
    {
     "data": {
      "text/plain": [
       "{'sports_id': 1,\n",
       " 'sports_name': 'cricket',\n",
       " 'score1': [20, 40, 70, 2],\n",
       " 'score2': (1, 2, 3, 4, 5)}"
      ]
     },
     "execution_count": 45,
     "metadata": {},
     "output_type": "execute_result"
    }
   ],
   "source": [
    "dict3"
   ]
  },
  {
   "cell_type": "code",
   "execution_count": 47,
   "id": "74c4575c-2db5-45f2-98d2-3c495db2c0d0",
   "metadata": {},
   "outputs": [],
   "source": [
    "del dict3['score2']"
   ]
  },
  {
   "cell_type": "code",
   "execution_count": 49,
   "id": "250c44f0-9568-4b2c-9751-d3d4b00e4e26",
   "metadata": {},
   "outputs": [
    {
     "data": {
      "text/plain": [
       "{'sports_id': 1, 'sports_name': 'cricket', 'score1': [20, 40, 70, 2]}"
      ]
     },
     "execution_count": 49,
     "metadata": {},
     "output_type": "execute_result"
    }
   ],
   "source": [
    "dict3"
   ]
  },
  {
   "cell_type": "code",
   "execution_count": 51,
   "id": "fe617051-1682-4c43-8d07-9e6c85246fe1",
   "metadata": {},
   "outputs": [],
   "source": [
    "dict3.clear()"
   ]
  },
  {
   "cell_type": "code",
   "execution_count": 53,
   "id": "37fa72af-a0b1-4daa-9945-82cc3f1bdc52",
   "metadata": {},
   "outputs": [
    {
     "data": {
      "text/plain": [
       "{}"
      ]
     },
     "execution_count": 53,
     "metadata": {},
     "output_type": "execute_result"
    }
   ],
   "source": [
    "dict3"
   ]
  },
  {
   "cell_type": "code",
   "execution_count": 55,
   "id": "a5053b11-267e-4758-8fe7-3698d8c79bcb",
   "metadata": {},
   "outputs": [],
   "source": [
    "del dict3"
   ]
  },
  {
   "cell_type": "code",
   "execution_count": 57,
   "id": "0a35f971-fcdb-4f66-8552-664815307eac",
   "metadata": {},
   "outputs": [
    {
     "ename": "NameError",
     "evalue": "name 'dict3' is not defined",
     "output_type": "error",
     "traceback": [
      "\u001b[1;31m---------------------------------------------------------------------------\u001b[0m",
      "\u001b[1;31mNameError\u001b[0m                                 Traceback (most recent call last)",
      "Cell \u001b[1;32mIn[57], line 1\u001b[0m\n\u001b[1;32m----> 1\u001b[0m dict3\n",
      "\u001b[1;31mNameError\u001b[0m: name 'dict3' is not defined"
     ]
    }
   ],
   "source": [
    "dict3"
   ]
  },
  {
   "cell_type": "code",
   "execution_count": null,
   "id": "8550f362-f09d-4fbd-8a95-a6c6ced134f1",
   "metadata": {},
   "outputs": [],
   "source": []
  }
 ],
 "metadata": {
  "kernelspec": {
   "display_name": "Python 3 (ipykernel)",
   "language": "python",
   "name": "python3"
  },
  "language_info": {
   "codemirror_mode": {
    "name": "ipython",
    "version": 3
   },
   "file_extension": ".py",
   "mimetype": "text/x-python",
   "name": "python",
   "nbconvert_exporter": "python",
   "pygments_lexer": "ipython3",
   "version": "3.12.4"
  }
 },
 "nbformat": 4,
 "nbformat_minor": 5
}
