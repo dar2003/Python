{
 "cells": [
  {
   "cell_type": "markdown",
   "id": "e4654b81-868c-40c1-bd42-7f9dec49bafc",
   "metadata": {},
   "source": [
    "**FOR LOOP**"
   ]
  },
  {
   "cell_type": "markdown",
   "id": "863ae5db-ff5e-486d-b021-cfba94fe9845",
   "metadata": {},
   "source": [
    "**A for loop in Python is a control structure used to iterate over a sequence (like a list, tuple, dictionary, set, or string) or any other iterable object. It allows you to execute a block of code multiple times, once for each item in the sequence.**"
   ]
  },
  {
   "cell_type": "code",
   "execution_count": 1,
   "id": "d758d6e7-66ed-4677-89ac-c3c298943409",
   "metadata": {},
   "outputs": [],
   "source": [
    "set2 = (1,2,3,4,5,6,75,8,19,10)"
   ]
  },
  {
   "cell_type": "code",
   "execution_count": 3,
   "id": "818cd489-2be1-4f06-a727-0e2d2672113e",
   "metadata": {},
   "outputs": [
    {
     "name": "stdout",
     "output_type": "stream",
     "text": [
      "1\n",
      "2\n",
      "3\n",
      "4\n",
      "5\n",
      "6\n",
      "75\n",
      "8\n",
      "19\n",
      "10\n"
     ]
    }
   ],
   "source": [
    "for i in set2 :\n",
    " print(i)"
   ]
  },
  {
   "cell_type": "code",
   "execution_count": 5,
   "id": "d3a44ddb-f15f-41de-8037-3d08d60105be",
   "metadata": {},
   "outputs": [],
   "source": [
    "set1 = (0,1,2,3,4,5,6,7,8,9)"
   ]
  },
  {
   "cell_type": "code",
   "execution_count": 9,
   "id": "30686508-9f95-4f37-a2e2-ee0e1565b452",
   "metadata": {},
   "outputs": [
    {
     "name": "stdout",
     "output_type": "stream",
     "text": [
      "1\n",
      "2\n",
      "3\n",
      "4\n",
      "5\n"
     ]
    }
   ],
   "source": [
    "for i in set2 :\n",
    " print(i)\n",
    " if i == 5 :\n",
    "    break"
   ]
  },
  {
   "cell_type": "code",
   "execution_count": 11,
   "id": "74c7a28e-95d6-438b-8df8-ed804087394a",
   "metadata": {},
   "outputs": [
    {
     "name": "stdout",
     "output_type": "stream",
     "text": [
      "0\n",
      "1\n",
      "2\n",
      "3\n",
      "4\n"
     ]
    }
   ],
   "source": [
    "for i in set1 :\n",
    " if i == 5 :\n",
    "    break\n",
    " print(i)"
   ]
  },
  {
   "cell_type": "code",
   "execution_count": 13,
   "id": "711ea2f6-0b9a-46e2-9d2a-13968dff02a9",
   "metadata": {},
   "outputs": [
    {
     "name": "stdout",
     "output_type": "stream",
     "text": [
      "0\n",
      "1\n",
      "2\n",
      "3\n",
      "4\n",
      "5\n",
      "6\n",
      "7\n",
      "8\n",
      "9\n"
     ]
    }
   ],
   "source": [
    "for i in set1 :\n",
    " print(i)\n",
    " if i == 5 :\n",
    "    continue"
   ]
  },
  {
   "cell_type": "code",
   "execution_count": 15,
   "id": "0015f871-0503-42a5-8e4d-613256f9b247",
   "metadata": {},
   "outputs": [
    {
     "name": "stdout",
     "output_type": "stream",
     "text": [
      "0\n",
      "1\n",
      "2\n",
      "3\n",
      "4\n",
      "6\n",
      "7\n",
      "8\n",
      "9\n"
     ]
    }
   ],
   "source": [
    "for i in set1 :\n",
    " if i == 5 :\n",
    "    continue\n",
    " print(i)"
   ]
  },
  {
   "cell_type": "code",
   "execution_count": 17,
   "id": "e1fb250c-a972-4487-a245-7380f00349fa",
   "metadata": {},
   "outputs": [
    {
     "name": "stdout",
     "output_type": "stream",
     "text": [
      "d\n",
      "a\n",
      "r\n",
      "s\n",
      "h\n",
      "i\n",
      "l\n"
     ]
    }
   ],
   "source": [
    "for i in 'darshil': \n",
    " print(i)"
   ]
  },
  {
   "cell_type": "code",
   "execution_count": 19,
   "id": "a50ea3ad-69fa-4ae4-a7b1-3e92889538ed",
   "metadata": {},
   "outputs": [
    {
     "name": "stdout",
     "output_type": "stream",
     "text": [
      "0\n",
      "1\n",
      "2\n",
      "3\n",
      "4\n",
      "5\n",
      "6\n",
      "7\n",
      "8\n",
      "9\n"
     ]
    }
   ],
   "source": [
    "for i in range(10): \n",
    " print(i)"
   ]
  },
  {
   "cell_type": "code",
   "execution_count": 21,
   "id": "d7427450-52ec-47e8-acd3-31bad6dbc755",
   "metadata": {},
   "outputs": [
    {
     "name": "stdout",
     "output_type": "stream",
     "text": [
      "5\n",
      "6\n",
      "7\n",
      "8\n",
      "9\n"
     ]
    }
   ],
   "source": [
    "for i in range(5,10): \n",
    " print(i)"
   ]
  },
  {
   "cell_type": "code",
   "execution_count": 23,
   "id": "761fd1d2-923a-4e7a-a559-b397c6883a07",
   "metadata": {},
   "outputs": [
    {
     "name": "stdout",
     "output_type": "stream",
     "text": [
      "1\n",
      "3\n",
      "5\n",
      "7\n",
      "9\n"
     ]
    }
   ],
   "source": [
    "for i in range(1,10,2): \n",
    " print(i)"
   ]
  },
  {
   "cell_type": "code",
   "execution_count": 25,
   "id": "5871541d-5363-45f3-8962-2b26e2f4f576",
   "metadata": {},
   "outputs": [
    {
     "name": "stdout",
     "output_type": "stream",
     "text": [
      "d\n",
      "s\n",
      "h\n",
      "a\n",
      "h\n",
      "a\n",
      "s\n",
      "h\n",
      "a\n",
      "h\n",
      "r\n",
      "s\n",
      "h\n",
      "a\n",
      "h\n",
      "s\n",
      "s\n",
      "h\n",
      "a\n",
      "h\n",
      "h\n",
      "s\n",
      "h\n",
      "a\n",
      "h\n",
      "i\n",
      "s\n",
      "h\n",
      "a\n",
      "h\n",
      "l\n",
      "s\n",
      "h\n",
      "a\n",
      "h\n"
     ]
    }
   ],
   "source": [
    "for i in 'darshil': \n",
    " print(i)\n",
    " for j in 'shah':\n",
    "    print(j)"
   ]
  },
  {
   "cell_type": "code",
   "execution_count": 29,
   "id": "58f4ee72-547a-4410-9236-4ec9b4dce893",
   "metadata": {},
   "outputs": [
    {
     "name": "stdout",
     "output_type": "stream",
     "text": [
      "0\n",
      "s\n",
      "h\n",
      "a\n",
      "h\n",
      "1\n",
      "s\n",
      "h\n",
      "a\n",
      "h\n",
      "2\n",
      "s\n",
      "h\n",
      "a\n",
      "h\n",
      "3\n",
      "s\n",
      "h\n",
      "a\n",
      "h\n",
      "4\n",
      "s\n",
      "h\n",
      "a\n",
      "h\n"
     ]
    }
   ],
   "source": [
    "for i in range(5): \n",
    " print(i)\n",
    " for j in 'shah':\n",
    "    print(j)"
   ]
  },
  {
   "cell_type": "code",
   "execution_count": 31,
   "id": "ee726133-e2f2-466a-92b8-31d395cbb98b",
   "metadata": {},
   "outputs": [
    {
     "name": "stdout",
     "output_type": "stream",
     "text": [
      "1\n",
      "s\n",
      "h\n",
      "a\n",
      "h\n",
      "2\n",
      "s\n",
      "h\n",
      "a\n",
      "h\n",
      "3\n",
      "s\n",
      "h\n",
      "a\n",
      "h\n",
      "4\n",
      "s\n",
      "h\n",
      "a\n",
      "h\n"
     ]
    }
   ],
   "source": [
    "for i in range(1,5): \n",
    " print(i)\n",
    " for j in 'shah':\n",
    "    print(j)"
   ]
  },
  {
   "cell_type": "markdown",
   "id": "9bbb175c-60b2-4f4f-9142-f43e48974a60",
   "metadata": {},
   "source": [
    "**WHILE LOOP**"
   ]
  },
  {
   "cell_type": "markdown",
   "id": "5c4af11b-b572-4294-83dd-5a745bbfbe69",
   "metadata": {},
   "source": [
    "**A while loop in Python repeatedly executes a block of code as long as a specified condition is True. It is useful when the number of iterations is not known in advance and you want the loop to continue running until a certain condition is met**"
   ]
  },
  {
   "cell_type": "code",
   "execution_count": null,
   "id": "a7837cf4-37ae-42e2-b186-17a5d6ae5086",
   "metadata": {},
   "outputs": [],
   "source": [
    "x = 1\n",
    "while x < 10:\n",
    "  print(x)\n",
    "  x += 2"
   ]
  },
  {
   "cell_type": "code",
   "execution_count": null,
   "id": "035a0f4d-3b40-4873-bdd4-b428c873f9d6",
   "metadata": {},
   "outputs": [],
   "source": []
  }
 ],
 "metadata": {
  "kernelspec": {
   "display_name": "Python 3 (ipykernel)",
   "language": "python",
   "name": "python3"
  },
  "language_info": {
   "codemirror_mode": {
    "name": "ipython",
    "version": 3
   },
   "file_extension": ".py",
   "mimetype": "text/x-python",
   "name": "python",
   "nbconvert_exporter": "python",
   "pygments_lexer": "ipython3",
   "version": "3.12.4"
  }
 },
 "nbformat": 4,
 "nbformat_minor": 5
}
