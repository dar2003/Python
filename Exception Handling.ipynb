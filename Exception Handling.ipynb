{
 "cells": [
  {
   "cell_type": "markdown",
   "id": "0626e090-1e76-469a-8400-677711e888f0",
   "metadata": {},
   "source": [
    "**exception handling is a mechanism to handle errors that occur during program execution, allowing the program to continue running or handle issues gracefully. Instead of causing the program to crash, exceptions allow you to manage unexpected events or errors in a controlled way.**"
   ]
  },
  {
   "cell_type": "markdown",
   "id": "8aa8d390-8085-4c9c-bd24-1638a9ce393e",
   "metadata": {},
   "source": [
    "**Key Components of Exception Handling**"
   ]
  },
  {
   "cell_type": "markdown",
   "id": "b62799c8-8083-4ae8-ac0c-08c444db5ee7",
   "metadata": {},
   "source": [
    "**try block: This block of code contains statements that might raise an exception. If an error occurs, control is passed to the except block.**\n",
    "\n",
    "**except block: This block is executed if an exception occurs in the try block. You can specify the type of exception to catch specific errors.**\n",
    "\n",
    "**else block: This block executes if no exceptions are raised in the try block.**\n",
    "\n",
    "**finally block: This block always executes, regardless of whether an exception occurred. It’s often used for cleanup actions (e.g., closing files).**"
   ]
  },
  {
   "cell_type": "code",
   "execution_count": 3,
   "id": "b41df2ef-8258-4020-9c2a-ca6b76ebb5d5",
   "metadata": {},
   "outputs": [
    {
     "name": "stdout",
     "output_type": "stream",
     "text": [
      "ZeroDivisionError\n"
     ]
    }
   ],
   "source": [
    "def func(x):\n",
    "   y = x/0\n",
    "     \n",
    "try:\n",
    "    func(5)\n",
    "except ZeroDivisionError:\n",
    "    print(\"ZeroDivisionError\")\n",
    "except NameError:\n",
    "    print(\"NameError\")"
   ]
  },
  {
   "cell_type": "code",
   "execution_count": 5,
   "id": "5a67af14-be66-4fc1-8513-076c0fc839db",
   "metadata": {},
   "outputs": [
    {
     "name": "stdout",
     "output_type": "stream",
     "text": [
      "NameError\n"
     ]
    }
   ],
   "source": [
    "def func(x):\n",
    "   print(a)\n",
    "     \n",
    "try:\n",
    "    func(5)\n",
    "except ZeroDivisionError:\n",
    "    print(\"ZeroDivisionError\")\n",
    "except NameError:\n",
    "    print(\"NameError\")"
   ]
  },
  {
   "cell_type": "code",
   "execution_count": 7,
   "id": "d2fb4fe2-6470-44b0-b2b1-48d28472fb29",
   "metadata": {},
   "outputs": [
    {
     "name": "stdout",
     "output_type": "stream",
     "text": [
      "Indexerror\n"
     ]
    }
   ],
   "source": [
    "try:\n",
    " listt = [1,2,3,4,5]\n",
    " print(listt[99])\n",
    "except IndexError:\n",
    "    print(\"Indexerror\")"
   ]
  },
  {
   "cell_type": "code",
   "execution_count": 9,
   "id": "b7aecb90-fe58-48ae-a9d7-ada97112596d",
   "metadata": {},
   "outputs": [
    {
     "name": "stdout",
     "output_type": "stream",
     "text": [
      "Indexerror\n",
      "Executing rest of the code\n",
      "Executing rest of the code\n"
     ]
    }
   ],
   "source": [
    "try:\n",
    " listt = [1,2,3,4,5]\n",
    " print(listt[99])\n",
    "except IndexError:\n",
    "    print(\"Indexerror\")\n",
    "finally:\n",
    "    print(\"Executing rest of the code\")\n",
    "    print(\"Executing rest of the code\")"
   ]
  },
  {
   "cell_type": "code",
   "execution_count": 11,
   "id": "bdd7b674-e2b6-421b-97dc-c66da766dcc4",
   "metadata": {},
   "outputs": [
    {
     "name": "stdout",
     "output_type": "stream",
     "text": [
      "TypeError\n"
     ]
    }
   ],
   "source": [
    "try:\n",
    " s = \"shah\"\n",
    " n = 5\n",
    " print(s+n)\n",
    "except TypeError:\n",
    "    print(\"TypeError\")"
   ]
  },
  {
   "cell_type": "code",
   "execution_count": null,
   "id": "c3da8e9f-2515-4f18-8ade-162048afcdb9",
   "metadata": {},
   "outputs": [],
   "source": []
  }
 ],
 "metadata": {
  "kernelspec": {
   "display_name": "Python 3 (ipykernel)",
   "language": "python",
   "name": "python3"
  },
  "language_info": {
   "codemirror_mode": {
    "name": "ipython",
    "version": 3
   },
   "file_extension": ".py",
   "mimetype": "text/x-python",
   "name": "python",
   "nbconvert_exporter": "python",
   "pygments_lexer": "ipython3",
   "version": "3.12.4"
  }
 },
 "nbformat": 4,
 "nbformat_minor": 5
}
