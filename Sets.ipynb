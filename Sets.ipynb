{
 "cells": [
  {
   "cell_type": "markdown",
   "id": "c5a05022-ec4c-414b-a906-0abcaee2a422",
   "metadata": {},
   "source": [
    "**a set is an unordered collection of unique elements. Sets are useful when you need to store non-duplicate items and perform mathematical operations like union, intersection, and difference. Sets are defined by placing elements within curly braces ({ }) or by using the set() function.**"
   ]
  },
  {
   "cell_type": "code",
   "execution_count": 4,
   "id": "b84cf137-002d-435f-9801-94b8789d2f9a",
   "metadata": {},
   "outputs": [],
   "source": [
    "set1 = {1,2,3,4,5}"
   ]
  },
  {
   "cell_type": "code",
   "execution_count": 6,
   "id": "011cf2bb-bf0e-4540-a337-51f18dc4bdcc",
   "metadata": {},
   "outputs": [],
   "source": [
    "set2 = {'darshil',\"shah\",'dsa',\"course\"}"
   ]
  },
  {
   "cell_type": "code",
   "execution_count": 8,
   "id": "12a97719-302e-48bb-9316-49d3e956f623",
   "metadata": {},
   "outputs": [],
   "source": [
    "set3 = {True, False,False, True}"
   ]
  },
  {
   "cell_type": "code",
   "execution_count": 10,
   "id": "873a2dac-fcb0-4a9e-8ed6-ed9dfd4e83b9",
   "metadata": {},
   "outputs": [
    {
     "name": "stdout",
     "output_type": "stream",
     "text": [
      "<class 'set'>\n",
      "<class 'set'>\n",
      "<class 'set'>\n"
     ]
    }
   ],
   "source": [
    "print(type(set1))\n",
    "print(type(set2))\n",
    "print(type(set3))"
   ]
  },
  {
   "cell_type": "code",
   "execution_count": 24,
   "id": "001757c0-950a-4de9-a667-8aedaba9dbc1",
   "metadata": {},
   "outputs": [],
   "source": [
    "set4 = set((5, True, 'yes', \"no\"))"
   ]
  },
  {
   "cell_type": "code",
   "execution_count": 26,
   "id": "b1bd9146-56a2-4d1c-857e-f8a6cd6563b0",
   "metadata": {},
   "outputs": [
    {
     "name": "stdout",
     "output_type": "stream",
     "text": [
      "<class 'set'>\n"
     ]
    }
   ],
   "source": [
    "print(type(set4))"
   ]
  },
  {
   "cell_type": "code",
   "execution_count": 28,
   "id": "ed711f64-d813-4873-ab16-466b710ec21f",
   "metadata": {},
   "outputs": [
    {
     "data": {
      "text/plain": [
       "{5, True, 'no', 'yes'}"
      ]
     },
     "execution_count": 28,
     "metadata": {},
     "output_type": "execute_result"
    }
   ],
   "source": [
    "set4"
   ]
  },
  {
   "cell_type": "code",
   "execution_count": 30,
   "id": "34211c7b-70a6-4764-b201-3c3f7799605f",
   "metadata": {},
   "outputs": [
    {
     "name": "stdout",
     "output_type": "stream",
     "text": [
      "dsa\n",
      "darshil\n",
      "shah\n",
      "course\n"
     ]
    }
   ],
   "source": [
    "for i in set2:\n",
    " print(i)"
   ]
  },
  {
   "cell_type": "code",
   "execution_count": 32,
   "id": "9d633ed2-fd34-4214-86b7-255183b8837f",
   "metadata": {},
   "outputs": [
    {
     "ename": "TypeError",
     "evalue": "'set' object is not subscriptable",
     "output_type": "error",
     "traceback": [
      "\u001b[1;31m---------------------------------------------------------------------------\u001b[0m",
      "\u001b[1;31mTypeError\u001b[0m                                 Traceback (most recent call last)",
      "Cell \u001b[1;32mIn[32], line 1\u001b[0m\n\u001b[1;32m----> 1\u001b[0m set4[\u001b[38;5;241m0\u001b[39m]\n",
      "\u001b[1;31mTypeError\u001b[0m: 'set' object is not subscriptable"
     ]
    }
   ],
   "source": [
    "set4[0]"
   ]
  },
  {
   "cell_type": "code",
   "execution_count": 34,
   "id": "01aa00aa-7b0f-4461-b179-793364029ca8",
   "metadata": {},
   "outputs": [
    {
     "data": {
      "text/plain": [
       "{1, 2, 3, 4, 5}"
      ]
     },
     "execution_count": 34,
     "metadata": {},
     "output_type": "execute_result"
    }
   ],
   "source": [
    "sett = {1,1,2,2,3,3,4,4,5,5}\n",
    "sett"
   ]
  },
  {
   "cell_type": "code",
   "execution_count": 36,
   "id": "6e6795dd-7e15-4c68-bd9b-396d1240f342",
   "metadata": {},
   "outputs": [
    {
     "name": "stdout",
     "output_type": "stream",
     "text": [
      "True\n"
     ]
    }
   ],
   "source": [
    "print('yes' in set4)"
   ]
  },
  {
   "cell_type": "code",
   "execution_count": 38,
   "id": "8af66f13-aa98-46e6-8868-27a44edae572",
   "metadata": {},
   "outputs": [
    {
     "name": "stdout",
     "output_type": "stream",
     "text": [
      "True\n"
     ]
    }
   ],
   "source": [
    "print(5 in set4)"
   ]
  },
  {
   "cell_type": "code",
   "execution_count": 40,
   "id": "1056f338-c941-4b93-986a-c6eac5f530bd",
   "metadata": {},
   "outputs": [],
   "source": [
    "set4.add(False)"
   ]
  },
  {
   "cell_type": "code",
   "execution_count": 42,
   "id": "170fad0d-95d2-4c66-98c8-54d4399c3418",
   "metadata": {},
   "outputs": [
    {
     "data": {
      "text/plain": [
       "{5, False, True, 'no', 'yes'}"
      ]
     },
     "execution_count": 42,
     "metadata": {},
     "output_type": "execute_result"
    }
   ],
   "source": [
    "set4"
   ]
  },
  {
   "cell_type": "code",
   "execution_count": 44,
   "id": "0f7f4bf1-55a0-4cdc-926e-1d67781d1783",
   "metadata": {},
   "outputs": [],
   "source": [
    "set4.add(50)"
   ]
  },
  {
   "cell_type": "code",
   "execution_count": 46,
   "id": "880721c3-42e9-4b2a-89a5-f15f055ab1ca",
   "metadata": {},
   "outputs": [
    {
     "data": {
      "text/plain": [
       "{5, 50, False, True, 'no', 'yes'}"
      ]
     },
     "execution_count": 46,
     "metadata": {},
     "output_type": "execute_result"
    }
   ],
   "source": [
    "set4"
   ]
  },
  {
   "cell_type": "code",
   "execution_count": 48,
   "id": "1709a4d5-053a-440c-a483-0aeeeff9dec3",
   "metadata": {},
   "outputs": [],
   "source": [
    "set4.add('may be')"
   ]
  },
  {
   "cell_type": "code",
   "execution_count": 50,
   "id": "640d884d-a2aa-4ac5-aba7-651e8a70e938",
   "metadata": {},
   "outputs": [
    {
     "data": {
      "text/plain": [
       "{5, 50, False, True, 'may be', 'no', 'yes'}"
      ]
     },
     "execution_count": 50,
     "metadata": {},
     "output_type": "execute_result"
    }
   ],
   "source": [
    "set4"
   ]
  },
  {
   "cell_type": "code",
   "execution_count": 52,
   "id": "9a3b6c3f-d358-4d74-b195-2361acc29af4",
   "metadata": {},
   "outputs": [],
   "source": [
    "set4.add('xyz')"
   ]
  },
  {
   "cell_type": "code",
   "execution_count": 54,
   "id": "bf2b4d1b-c4ea-41b4-b998-2daf1cd4fc3b",
   "metadata": {},
   "outputs": [
    {
     "data": {
      "text/plain": [
       "{5, 50, False, True, 'may be', 'no', 'xyz', 'yes'}"
      ]
     },
     "execution_count": 54,
     "metadata": {},
     "output_type": "execute_result"
    }
   ],
   "source": [
    "set4"
   ]
  },
  {
   "cell_type": "code",
   "execution_count": 56,
   "id": "55a1cc99-d650-473f-81ba-757aae42a122",
   "metadata": {},
   "outputs": [
    {
     "data": {
      "text/plain": [
       "{5, False, True, 'may be', 'no', 'xyz', 'yes'}"
      ]
     },
     "execution_count": 56,
     "metadata": {},
     "output_type": "execute_result"
    }
   ],
   "source": [
    "set4.remove(50)\n",
    "set4"
   ]
  },
  {
   "cell_type": "code",
   "execution_count": 58,
   "id": "91f004fa-ff66-4db5-b308-cf51749f5fa1",
   "metadata": {},
   "outputs": [
    {
     "ename": "KeyError",
     "evalue": "50",
     "output_type": "error",
     "traceback": [
      "\u001b[1;31m---------------------------------------------------------------------------\u001b[0m",
      "\u001b[1;31mKeyError\u001b[0m                                  Traceback (most recent call last)",
      "Cell \u001b[1;32mIn[58], line 1\u001b[0m\n\u001b[1;32m----> 1\u001b[0m set4\u001b[38;5;241m.\u001b[39mremove(\u001b[38;5;241m50\u001b[39m)\n",
      "\u001b[1;31mKeyError\u001b[0m: 50"
     ]
    }
   ],
   "source": [
    "set4.remove(50)"
   ]
  },
  {
   "cell_type": "code",
   "execution_count": 60,
   "id": "3fa2b35a-fcc6-4e09-9e88-9dcb024676f2",
   "metadata": {},
   "outputs": [],
   "source": [
    "set4.discard(50)"
   ]
  },
  {
   "cell_type": "code",
   "execution_count": 62,
   "id": "7e62b61c-0557-4ff5-ad81-be418b9239bc",
   "metadata": {},
   "outputs": [
    {
     "data": {
      "text/plain": [
       "{5, False, True, 'may be', 'no', 'xyz', 'yes'}"
      ]
     },
     "execution_count": 62,
     "metadata": {},
     "output_type": "execute_result"
    }
   ],
   "source": [
    "set4"
   ]
  },
  {
   "cell_type": "code",
   "execution_count": 64,
   "id": "999a3618-6f82-41d4-bf17-f07fac780b21",
   "metadata": {},
   "outputs": [
    {
     "data": {
      "text/plain": [
       "False"
      ]
     },
     "execution_count": 64,
     "metadata": {},
     "output_type": "execute_result"
    }
   ],
   "source": [
    "a = set4.pop()\n",
    "a"
   ]
  },
  {
   "cell_type": "code",
   "execution_count": 66,
   "id": "6480583b-2204-4721-a11d-6dfcdebd5757",
   "metadata": {},
   "outputs": [
    {
     "data": {
      "text/plain": [
       "{5, True, 'may be', 'no', 'xyz', 'yes'}"
      ]
     },
     "execution_count": 66,
     "metadata": {},
     "output_type": "execute_result"
    }
   ],
   "source": [
    "set4"
   ]
  },
  {
   "cell_type": "code",
   "execution_count": 68,
   "id": "0023c823-f986-4bee-9f30-6a3bb3a075a0",
   "metadata": {},
   "outputs": [
    {
     "data": {
      "text/plain": [
       "{2, 3, 4, 5, True, 'may be', 'no', 'xyz', 'yes'}"
      ]
     },
     "execution_count": 68,
     "metadata": {},
     "output_type": "execute_result"
    }
   ],
   "source": [
    "set5 = set4.union(set1)\n",
    "set5"
   ]
  },
  {
   "cell_type": "code",
   "execution_count": 70,
   "id": "4a2ffb1d-a898-444c-9794-0b68477439b9",
   "metadata": {},
   "outputs": [
    {
     "data": {
      "text/plain": [
       "{0}"
      ]
     },
     "execution_count": 70,
     "metadata": {},
     "output_type": "execute_result"
    }
   ],
   "source": [
    "settt = {0,False}\n",
    "settt"
   ]
  },
  {
   "cell_type": "code",
   "execution_count": 72,
   "id": "2ace61df-50af-4937-a2c6-aba789e107f2",
   "metadata": {},
   "outputs": [
    {
     "data": {
      "text/plain": [
       "{True}"
      ]
     },
     "execution_count": 72,
     "metadata": {},
     "output_type": "execute_result"
    }
   ],
   "source": [
    "set10 = {True}\n",
    "set11 = {1}\n",
    "set12 = set10.union(set11)\n",
    "set12"
   ]
  },
  {
   "cell_type": "code",
   "execution_count": 74,
   "id": "8757e7e5-416b-455a-9a5f-0b1ada121a46",
   "metadata": {},
   "outputs": [
    {
     "data": {
      "text/plain": [
       "{2, 3, 4, 5, True, 'may be', 'no', 'xyz', 'yes'}"
      ]
     },
     "execution_count": 74,
     "metadata": {},
     "output_type": "execute_result"
    }
   ],
   "source": [
    "set5.add(1)\n",
    "set5"
   ]
  },
  {
   "cell_type": "code",
   "execution_count": 76,
   "id": "2db2cbe9-7220-4877-8f62-2481b599fb06",
   "metadata": {},
   "outputs": [],
   "source": [
    "set4.update(set2)"
   ]
  },
  {
   "cell_type": "code",
   "execution_count": 78,
   "id": "38de2104-ef5e-4d25-a627-9b5c9c6cebc7",
   "metadata": {},
   "outputs": [
    {
     "data": {
      "text/plain": [
       "{5, True, 'course', 'darshil', 'dsa', 'may be', 'no', 'shah', 'xyz', 'yes'}"
      ]
     },
     "execution_count": 78,
     "metadata": {},
     "output_type": "execute_result"
    }
   ],
   "source": [
    "set4"
   ]
  },
  {
   "cell_type": "code",
   "execution_count": 80,
   "id": "217134bc-beb8-462a-b984-77f5aadee301",
   "metadata": {},
   "outputs": [
    {
     "data": {
      "text/plain": [
       "{5, True, 'may be', 'no', 'xyz', 'yes'}"
      ]
     },
     "execution_count": 80,
     "metadata": {},
     "output_type": "execute_result"
    }
   ],
   "source": [
    "set6 = set4.difference(set2)\n",
    "set6"
   ]
  },
  {
   "cell_type": "code",
   "execution_count": 82,
   "id": "22cb7da5-0cc3-40f8-875b-0043a3cdce36",
   "metadata": {},
   "outputs": [
    {
     "data": {
      "text/plain": [
       "{'course', 'darshil', 'dsa', 'shah'}"
      ]
     },
     "execution_count": 82,
     "metadata": {},
     "output_type": "execute_result"
    }
   ],
   "source": [
    "set7 = set4.intersection(set2)\n",
    "set7"
   ]
  },
  {
   "cell_type": "code",
   "execution_count": 84,
   "id": "8debf9d5-b134-4f9b-b7b0-aa215c9acd21",
   "metadata": {},
   "outputs": [
    {
     "data": {
      "text/plain": [
       "{'course', 'darshil', 'dsa', 'shah'}"
      ]
     },
     "execution_count": 84,
     "metadata": {},
     "output_type": "execute_result"
    }
   ],
   "source": [
    "set8 = set7.copy()\n",
    "set8"
   ]
  },
  {
   "cell_type": "code",
   "execution_count": 86,
   "id": "c1d6f84e-7355-4e0c-8844-742fd6d4691c",
   "metadata": {},
   "outputs": [
    {
     "data": {
      "text/plain": [
       "set()"
      ]
     },
     "execution_count": 86,
     "metadata": {},
     "output_type": "execute_result"
    }
   ],
   "source": [
    "set8.clear()\n",
    "set8"
   ]
  },
  {
   "cell_type": "code",
   "execution_count": 88,
   "id": "072b1485-bc5a-4f38-a91e-dfc85b5acc77",
   "metadata": {},
   "outputs": [
    {
     "data": {
      "text/plain": [
       "{1}"
      ]
     },
     "execution_count": 88,
     "metadata": {},
     "output_type": "execute_result"
    }
   ],
   "source": [
    "set8.add(1)\n",
    "set8"
   ]
  },
  {
   "cell_type": "code",
   "execution_count": 90,
   "id": "4a2443ba-0831-4878-a7f3-46762842243a",
   "metadata": {},
   "outputs": [],
   "source": [
    "del set8"
   ]
  },
  {
   "cell_type": "code",
   "execution_count": 92,
   "id": "3120a63f-f2fd-46d5-ba5b-fccf56ca3987",
   "metadata": {},
   "outputs": [
    {
     "ename": "NameError",
     "evalue": "name 'set8' is not defined",
     "output_type": "error",
     "traceback": [
      "\u001b[1;31m---------------------------------------------------------------------------\u001b[0m",
      "\u001b[1;31mNameError\u001b[0m                                 Traceback (most recent call last)",
      "Cell \u001b[1;32mIn[92], line 1\u001b[0m\n\u001b[1;32m----> 1\u001b[0m set8\n",
      "\u001b[1;31mNameError\u001b[0m: name 'set8' is not defined"
     ]
    }
   ],
   "source": [
    "set8"
   ]
  },
  {
   "cell_type": "code",
   "execution_count": null,
   "id": "12bf3607-b572-43c5-b77b-058d2f4a5471",
   "metadata": {},
   "outputs": [],
   "source": []
  }
 ],
 "metadata": {
  "kernelspec": {
   "display_name": "Python 3 (ipykernel)",
   "language": "python",
   "name": "python3"
  },
  "language_info": {
   "codemirror_mode": {
    "name": "ipython",
    "version": 3
   },
   "file_extension": ".py",
   "mimetype": "text/x-python",
   "name": "python",
   "nbconvert_exporter": "python",
   "pygments_lexer": "ipython3",
   "version": "3.12.4"
  }
 },
 "nbformat": 4,
 "nbformat_minor": 5
}
