{
 "cells": [
  {
   "cell_type": "markdown",
   "id": "f72c0e2a-cb86-408c-aeab-9c8c0d636770",
   "metadata": {},
   "source": [
    "**a tuple is an immutable, ordered collection of elements, similar to a list but with one key difference: tuples cannot be modified after they are created. This immutability makes tuples useful for storing data that should not change throughout a program. Tuples are defined by placing elements within parentheses (( )) and separating them with commas.**"
   ]
  },
  {
   "cell_type": "code",
   "execution_count": 1,
   "id": "00e84d38-d5ae-4a62-9db6-dac5916ed088",
   "metadata": {},
   "outputs": [],
   "source": [
    "tuple1 = (1,2,3,4,5)"
   ]
  },
  {
   "cell_type": "code",
   "execution_count": 3,
   "id": "464925fc-3542-450d-9d2c-e1545126bb46",
   "metadata": {},
   "outputs": [],
   "source": [
    "tuple2 = ('one','two',\"three\",\"four\")"
   ]
  },
  {
   "cell_type": "code",
   "execution_count": 5,
   "id": "ef665b1b-b89f-478e-b501-60bf667b11f7",
   "metadata": {},
   "outputs": [],
   "source": [
    "tuple3 = (True, False)"
   ]
  },
  {
   "cell_type": "code",
   "execution_count": 7,
   "id": "1e809c12-5100-4f60-85ce-4f14101b20b9",
   "metadata": {},
   "outputs": [],
   "source": [
    "tuple4 = (5j,1+2j)"
   ]
  },
  {
   "cell_type": "code",
   "execution_count": 9,
   "id": "e8207e8e-c0c4-4ea7-a54d-cab61ec0be83",
   "metadata": {},
   "outputs": [],
   "source": [
    "tuple5 = (1.2,2.3,3.4,4.5,5.6)"
   ]
  },
  {
   "cell_type": "code",
   "execution_count": 11,
   "id": "f89b44f6-91cd-4428-8ead-9fb7962d9ea8",
   "metadata": {},
   "outputs": [
    {
     "name": "stdout",
     "output_type": "stream",
     "text": [
      "<class 'tuple'>\n",
      "<class 'tuple'>\n",
      "<class 'tuple'>\n",
      "<class 'tuple'>\n",
      "<class 'tuple'>\n"
     ]
    }
   ],
   "source": [
    "print(type(tuple1))\n",
    "print(type(tuple2))\n",
    "print(type(tuple3))\n",
    "print(type(tuple4))\n",
    "print(type(tuple5))"
   ]
  },
  {
   "cell_type": "code",
   "execution_count": 13,
   "id": "8462ea1e-35d5-4d29-addd-e8fefcbfde0f",
   "metadata": {},
   "outputs": [],
   "source": [
    "tuple6 = (1,1,1,1,1,1,1,1,1,1,1)"
   ]
  },
  {
   "cell_type": "code",
   "execution_count": 15,
   "id": "e35a622b-fdeb-42e8-b2e4-aec547fef378",
   "metadata": {},
   "outputs": [
    {
     "data": {
      "text/plain": [
       "(1, 1, 1, 1, 1, 1, 1, 1, 1, 1, 1)"
      ]
     },
     "execution_count": 15,
     "metadata": {},
     "output_type": "execute_result"
    }
   ],
   "source": [
    "tuple6"
   ]
  },
  {
   "cell_type": "code",
   "execution_count": 27,
   "id": "f542d2fe-e4b9-4d6a-8de7-fd7515702f51",
   "metadata": {},
   "outputs": [],
   "source": [
    "tuple7 = (\"abcdefghijklmnopqrstuvwxyz\")"
   ]
  },
  {
   "cell_type": "code",
   "execution_count": 29,
   "id": "a6213fc4-9064-4963-a990-22fd877d9d91",
   "metadata": {},
   "outputs": [
    {
     "data": {
      "text/plain": [
       "str"
      ]
     },
     "execution_count": 29,
     "metadata": {},
     "output_type": "execute_result"
    }
   ],
   "source": [
    "type(tuple7)"
   ]
  },
  {
   "cell_type": "code",
   "execution_count": 31,
   "id": "9e38a637-63f6-4ab9-8e7d-1c53c5f6f68f",
   "metadata": {},
   "outputs": [],
   "source": [
    "tuple8 = (\"abcdefghijklmnopqrstuvwxyz\",)"
   ]
  },
  {
   "cell_type": "code",
   "execution_count": 33,
   "id": "9ef8a61d-ef4d-4c11-8599-701d5d739e28",
   "metadata": {},
   "outputs": [
    {
     "data": {
      "text/plain": [
       "tuple"
      ]
     },
     "execution_count": 33,
     "metadata": {},
     "output_type": "execute_result"
    }
   ],
   "source": [
    "type(tuple8)"
   ]
  },
  {
   "cell_type": "code",
   "execution_count": 35,
   "id": "b2d8b65b-9c76-452d-854f-0dc099492c51",
   "metadata": {},
   "outputs": [
    {
     "data": {
      "text/plain": [
       "1"
      ]
     },
     "execution_count": 35,
     "metadata": {},
     "output_type": "execute_result"
    }
   ],
   "source": [
    "tuple1[0]"
   ]
  },
  {
   "cell_type": "code",
   "execution_count": 37,
   "id": "66b93c04-b1b6-4aa2-9768-c4444efae1fc",
   "metadata": {},
   "outputs": [
    {
     "data": {
      "text/plain": [
       "'two'"
      ]
     },
     "execution_count": 37,
     "metadata": {},
     "output_type": "execute_result"
    }
   ],
   "source": [
    "tuple2[1]"
   ]
  },
  {
   "cell_type": "code",
   "execution_count": 39,
   "id": "0145bdfc-e689-4ff7-988e-a1b7fd1014f9",
   "metadata": {},
   "outputs": [
    {
     "data": {
      "text/plain": [
       "False"
      ]
     },
     "execution_count": 39,
     "metadata": {},
     "output_type": "execute_result"
    }
   ],
   "source": [
    "tuple3[1]"
   ]
  },
  {
   "cell_type": "code",
   "execution_count": 41,
   "id": "688f544b-ba1e-4da1-8e50-b1619450d42b",
   "metadata": {},
   "outputs": [
    {
     "data": {
      "text/plain": [
       "5"
      ]
     },
     "execution_count": 41,
     "metadata": {},
     "output_type": "execute_result"
    }
   ],
   "source": [
    "tuple1[-1]"
   ]
  },
  {
   "cell_type": "code",
   "execution_count": 43,
   "id": "16c1d318-7bcd-41e8-811b-66338d34b82b",
   "metadata": {},
   "outputs": [
    {
     "data": {
      "text/plain": [
       "'three'"
      ]
     },
     "execution_count": 43,
     "metadata": {},
     "output_type": "execute_result"
    }
   ],
   "source": [
    "tuple2[-2]"
   ]
  },
  {
   "cell_type": "code",
   "execution_count": 45,
   "id": "a3545e6c-3399-41db-a4d6-b86a35061471",
   "metadata": {},
   "outputs": [
    {
     "data": {
      "text/plain": [
       "(2, 3, 4)"
      ]
     },
     "execution_count": 45,
     "metadata": {},
     "output_type": "execute_result"
    }
   ],
   "source": [
    "tuple1[1:4]"
   ]
  },
  {
   "cell_type": "code",
   "execution_count": 47,
   "id": "d2f6e59d-63b8-4a72-be35-3485d5b2467d",
   "metadata": {},
   "outputs": [
    {
     "data": {
      "text/plain": [
       "(2, 3, 4)"
      ]
     },
     "execution_count": 47,
     "metadata": {},
     "output_type": "execute_result"
    }
   ],
   "source": [
    "tuple1[-4:-1]"
   ]
  },
  {
   "cell_type": "code",
   "execution_count": 49,
   "id": "a16260aa-971a-487d-8272-342e77335e8c",
   "metadata": {},
   "outputs": [
    {
     "data": {
      "text/plain": [
       "(2, 3, 4, 5)"
      ]
     },
     "execution_count": 49,
     "metadata": {},
     "output_type": "execute_result"
    }
   ],
   "source": [
    "tuple1[1:]"
   ]
  },
  {
   "cell_type": "code",
   "execution_count": 51,
   "id": "24e0f308-ca45-437a-8941-1b7acfeb7768",
   "metadata": {},
   "outputs": [
    {
     "data": {
      "text/plain": [
       "(3, 4, 5)"
      ]
     },
     "execution_count": 51,
     "metadata": {},
     "output_type": "execute_result"
    }
   ],
   "source": [
    "tuple1[2:]"
   ]
  },
  {
   "cell_type": "code",
   "execution_count": 53,
   "id": "2d7be81f-72f1-40e0-9222-826146668e51",
   "metadata": {},
   "outputs": [],
   "source": [
    "tuplelist = list(tuple2)"
   ]
  },
  {
   "cell_type": "code",
   "execution_count": 55,
   "id": "d562fc2b-6dcf-498e-b6bb-872d20279dd7",
   "metadata": {},
   "outputs": [],
   "source": [
    "tuplelist.append(\"five\")"
   ]
  },
  {
   "cell_type": "code",
   "execution_count": 57,
   "id": "93958689-7bd8-45f8-9bb4-6e862a7500de",
   "metadata": {},
   "outputs": [],
   "source": [
    "tuple2 = tuple(tuplelist)"
   ]
  },
  {
   "cell_type": "code",
   "execution_count": 59,
   "id": "42c524b8-7706-4eb1-97b3-198dceb625b9",
   "metadata": {},
   "outputs": [
    {
     "data": {
      "text/plain": [
       "('one', 'two', 'three', 'four', 'five')"
      ]
     },
     "execution_count": 59,
     "metadata": {},
     "output_type": "execute_result"
    }
   ],
   "source": [
    "tuple2"
   ]
  },
  {
   "cell_type": "code",
   "execution_count": 61,
   "id": "6049509f-9a3a-4a08-8f12-7603e009f246",
   "metadata": {},
   "outputs": [
    {
     "data": {
      "text/plain": [
       "('one', 'two', 'three', 'four')"
      ]
     },
     "execution_count": 61,
     "metadata": {},
     "output_type": "execute_result"
    }
   ],
   "source": [
    "tuplelist = list(tuple2)\n",
    "tuplelist.remove(\"five\")\n",
    "tuple2 = tuple(tuplelist)\n",
    "tuple2"
   ]
  },
  {
   "cell_type": "code",
   "execution_count": 63,
   "id": "07cfdafb-c531-4354-ac94-ad6ccdb27555",
   "metadata": {},
   "outputs": [],
   "source": [
    "del tuple4"
   ]
  },
  {
   "cell_type": "code",
   "execution_count": 65,
   "id": "49ba4707-9283-4f96-ac7d-1628c13a9c94",
   "metadata": {},
   "outputs": [
    {
     "data": {
      "text/plain": [
       "(1, 2, 3, 4, 5, 'abcdefghijklmnopqrstuvwxyz')"
      ]
     },
     "execution_count": 65,
     "metadata": {},
     "output_type": "execute_result"
    }
   ],
   "source": [
    "tuple9 = tuple1 + tuple8\n",
    "tuple9"
   ]
  },
  {
   "cell_type": "code",
   "execution_count": 67,
   "id": "0d7f4a68-183a-48c8-a7f0-568b1c296aee",
   "metadata": {},
   "outputs": [
    {
     "data": {
      "text/plain": [
       "(1, 2, 3, 4, 5, 'one', 'two', 'three', 'four')"
      ]
     },
     "execution_count": 67,
     "metadata": {},
     "output_type": "execute_result"
    }
   ],
   "source": [
    "tuple1 = tuple1 + tuple2\n",
    "tuple1"
   ]
  },
  {
   "cell_type": "code",
   "execution_count": 69,
   "id": "0a8c5f3c-e3e4-41ad-958c-65d571f972d6",
   "metadata": {},
   "outputs": [
    {
     "data": {
      "text/plain": [
       "1"
      ]
     },
     "execution_count": 69,
     "metadata": {},
     "output_type": "execute_result"
    }
   ],
   "source": [
    "tuple1.count(1)"
   ]
  },
  {
   "cell_type": "code",
   "execution_count": 73,
   "id": "7eae45d8-9f52-49f7-a4c9-057d55ec1492",
   "metadata": {},
   "outputs": [
    {
     "data": {
      "text/plain": [
       "11"
      ]
     },
     "execution_count": 73,
     "metadata": {},
     "output_type": "execute_result"
    }
   ],
   "source": [
    "tuple6.count(1)"
   ]
  },
  {
   "cell_type": "code",
   "execution_count": null,
   "id": "a7cd3ada-0772-48e6-9ffe-9d86919d5de2",
   "metadata": {},
   "outputs": [],
   "source": []
  }
 ],
 "metadata": {
  "kernelspec": {
   "display_name": "Python 3 (ipykernel)",
   "language": "python",
   "name": "python3"
  },
  "language_info": {
   "codemirror_mode": {
    "name": "ipython",
    "version": 3
   },
   "file_extension": ".py",
   "mimetype": "text/x-python",
   "name": "python",
   "nbconvert_exporter": "python",
   "pygments_lexer": "ipython3",
   "version": "3.12.4"
  }
 },
 "nbformat": 4,
 "nbformat_minor": 5
}
