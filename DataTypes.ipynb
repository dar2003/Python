{
 "cells": [
  {
   "cell_type": "markdown",
   "id": "ac05e385-9b42-48b1-bbff-47502e43d99c",
   "metadata": {},
   "source": [
    "In Python, data types are categories that tell Python what kind of value you’re working with. They help Python decide what operations can be done with that value. Here are the main data types"
   ]
  },
  {
   "cell_type": "code",
   "execution_count": 1,
   "id": "8cdf366f-d849-428b-8974-384852d6cd57",
   "metadata": {},
   "outputs": [],
   "source": [
    "x1 = 5\n",
    "x2 = 'shridhar'\n",
    "x3 = 5.0\n",
    "x4 = True\n",
    "x5 = 5j\n",
    "x6 = [1,2,3]\n",
    "x7 = {1,2,3}\n",
    "x8 = (1,2,3)\n",
    "x9 = {'naam' : 'shridhar', 'kaam' : 'Students ki help karna'}\n",
    "x10 = None"
   ]
  },
  {
   "cell_type": "code",
   "execution_count": 3,
   "id": "62fcb221-9cda-4dc9-af11-4d2a5163623a",
   "metadata": {},
   "outputs": [
    {
     "name": "stdout",
     "output_type": "stream",
     "text": [
      "<class 'int'>\n",
      "<class 'str'>\n",
      "<class 'float'>\n",
      "<class 'bool'>\n",
      "<class 'complex'>\n",
      "<class 'list'>\n",
      "<class 'set'>\n",
      "<class 'tuple'>\n",
      "<class 'dict'>\n",
      "<class 'NoneType'>\n"
     ]
    }
   ],
   "source": [
    "print(type(x1))\n",
    "print(type(x2))\n",
    "print(type(x3))\n",
    "print(type(x4))\n",
    "print(type(x5))\n",
    "print(type(x6))\n",
    "print(type(x7))\n",
    "print(type(x8))\n",
    "print(type(x9))\n",
    "print(type(x10))"
   ]
  },
  {
   "cell_type": "code",
   "execution_count": 5,
   "id": "c8748920-3207-4f0c-a567-cd83dd95fa45",
   "metadata": {},
   "outputs": [],
   "source": [
    "num1 = 5\n",
    "num2 = -5\n",
    "num3 = 5555555555555555555555555\n",
    "num4 = 5555555555555555555555555555555555555555555555555555555555555555555555555555555555555555555555555555555555555"
   ]
  },
  {
   "cell_type": "code",
   "execution_count": 7,
   "id": "b8891795-3e54-4ba8-83dd-c019a038d8a1",
   "metadata": {},
   "outputs": [
    {
     "name": "stdout",
     "output_type": "stream",
     "text": [
      "76\n",
      "36\n",
      "28\n",
      "28\n"
     ]
    }
   ],
   "source": [
    "import sys\n",
    "print(sys.getsizeof(num4))\n",
    "print(sys.getsizeof(num3))\n",
    "print(sys.getsizeof(num1))\n",
    "print(sys.getsizeof(num2))"
   ]
  },
  {
   "cell_type": "code",
   "execution_count": 9,
   "id": "eb9b92e4-f0b9-4dc8-a5d6-7463c46fa361",
   "metadata": {},
   "outputs": [
    {
     "name": "stdout",
     "output_type": "stream",
     "text": [
      "<class 'int'>\n",
      "<class 'int'>\n",
      "<class 'int'>\n",
      "<class 'int'>\n"
     ]
    }
   ],
   "source": [
    "print(type(num1))\n",
    "print(type(num2))\n",
    "print(type(num3))\n",
    "print(type(num4))"
   ]
  },
  {
   "cell_type": "code",
   "execution_count": 11,
   "id": "73485e6a-d57f-45d4-a2c0-ec0554510627",
   "metadata": {},
   "outputs": [],
   "source": [
    "float1 = 5.0\n",
    "float2 = -5.5\n",
    "float3 = 123e4"
   ]
  },
  {
   "cell_type": "code",
   "execution_count": 13,
   "id": "7aea918f-513b-401d-b347-038318f06b30",
   "metadata": {},
   "outputs": [
    {
     "name": "stdout",
     "output_type": "stream",
     "text": [
      "<class 'float'>\n",
      "<class 'float'>\n",
      "<class 'float'>\n"
     ]
    }
   ],
   "source": [
    "print(type(float1))\n",
    "print(type(float2))\n",
    "print(type(float3))"
   ]
  },
  {
   "cell_type": "code",
   "execution_count": 15,
   "id": "c3bfffa6-c54c-4515-a0e7-dea44bbc365a",
   "metadata": {},
   "outputs": [],
   "source": [
    "com1 = 0+1j\n",
    "com2 = 5j\n",
    "com3 = 1+2j\n",
    "com4 = -5j"
   ]
  },
  {
   "cell_type": "code",
   "execution_count": 19,
   "id": "e05af3b2-65ef-430e-9c98-12efbf18aa37",
   "metadata": {},
   "outputs": [
    {
     "name": "stdout",
     "output_type": "stream",
     "text": [
      "<class 'complex'>\n",
      "<class 'complex'>\n",
      "<class 'complex'>\n",
      "<class 'complex'>\n"
     ]
    }
   ],
   "source": [
    "print(type(com1))\n",
    "print(type(com2))\n",
    "print(type(com3))\n",
    "print(type(com4))"
   ]
  },
  {
   "cell_type": "code",
   "execution_count": 21,
   "id": "1d4906f8-ca30-45ed-8b28-cdefc0858af7",
   "metadata": {},
   "outputs": [],
   "source": [
    "nt1 = int(float1)"
   ]
  },
  {
   "cell_type": "code",
   "execution_count": 23,
   "id": "a21b3423-ec60-40a6-b0fc-18877823f3f2",
   "metadata": {},
   "outputs": [
    {
     "ename": "TypeError",
     "evalue": "int() argument must be a string, a bytes-like object or a real number, not 'complex'",
     "output_type": "error",
     "traceback": [
      "\u001b[1;31m---------------------------------------------------------------------------\u001b[0m",
      "\u001b[1;31mTypeError\u001b[0m                                 Traceback (most recent call last)",
      "Cell \u001b[1;32mIn[23], line 1\u001b[0m\n\u001b[1;32m----> 1\u001b[0m int2 \u001b[38;5;241m=\u001b[39m \u001b[38;5;28mint\u001b[39m(com1)\n",
      "\u001b[1;31mTypeError\u001b[0m: int() argument must be a string, a bytes-like object or a real number, not 'complex'"
     ]
    }
   ],
   "source": [
    "int2 = int(com1) #complex num cannot be converted into integer "
   ]
  },
  {
   "cell_type": "code",
   "execution_count": 27,
   "id": "8c07e436-a435-40d0-8647-22a1fa54c84f",
   "metadata": {},
   "outputs": [],
   "source": [
    "str1 = \"Darshil\""
   ]
  },
  {
   "cell_type": "code",
   "execution_count": 29,
   "id": "899b1003-edc2-47a8-a818-46431343741c",
   "metadata": {},
   "outputs": [
    {
     "ename": "ValueError",
     "evalue": "invalid literal for int() with base 10: 'Darshil'",
     "output_type": "error",
     "traceback": [
      "\u001b[1;31m---------------------------------------------------------------------------\u001b[0m",
      "\u001b[1;31mValueError\u001b[0m                                Traceback (most recent call last)",
      "Cell \u001b[1;32mIn[29], line 1\u001b[0m\n\u001b[1;32m----> 1\u001b[0m nt1 \u001b[38;5;241m=\u001b[39m \u001b[38;5;28mint\u001b[39m(str1)\n",
      "\u001b[1;31mValueError\u001b[0m: invalid literal for int() with base 10: 'Darshil'"
     ]
    }
   ],
   "source": [
    "nt1 = int(str1)"
   ]
  },
  {
   "cell_type": "code",
   "execution_count": 31,
   "id": "362400a3-d0fd-4cf2-a185-ca0a958f8fb1",
   "metadata": {},
   "outputs": [],
   "source": [
    "complex1 = complex(num1)"
   ]
  },
  {
   "cell_type": "code",
   "execution_count": 33,
   "id": "6bdd3267-2562-4e79-af77-24b371d7435b",
   "metadata": {},
   "outputs": [
    {
     "data": {
      "text/plain": [
       "(5+0j)"
      ]
     },
     "execution_count": 33,
     "metadata": {},
     "output_type": "execute_result"
    }
   ],
   "source": [
    "complex1"
   ]
  },
  {
   "cell_type": "code",
   "execution_count": null,
   "id": "4d1b995d-92f9-420b-a92c-e5f3ae5c4a97",
   "metadata": {},
   "outputs": [],
   "source": []
  }
 ],
 "metadata": {
  "kernelspec": {
   "display_name": "Python 3 (ipykernel)",
   "language": "python",
   "name": "python3"
  },
  "language_info": {
   "codemirror_mode": {
    "name": "ipython",
    "version": 3
   },
   "file_extension": ".py",
   "mimetype": "text/x-python",
   "name": "python",
   "nbconvert_exporter": "python",
   "pygments_lexer": "ipython3",
   "version": "3.12.4"
  }
 },
 "nbformat": 4,
 "nbformat_minor": 5
}
