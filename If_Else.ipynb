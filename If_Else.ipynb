{
 "cells": [
  {
   "cell_type": "code",
   "execution_count": 1,
   "id": "e055b9c6-ee7a-49b1-81fa-b0d2f99f00e1",
   "metadata": {},
   "outputs": [],
   "source": [
    "x = 10\n",
    "y = 20\n",
    "z = 10"
   ]
  },
  {
   "cell_type": "code",
   "execution_count": 3,
   "id": "be187efc-30d4-471c-92f1-c8cc73394e4e",
   "metadata": {},
   "outputs": [
    {
     "name": "stdout",
     "output_type": "stream",
     "text": [
      "not equal\n"
     ]
    }
   ],
   "source": [
    "if x != y :\n",
    " print('not equal')"
   ]
  },
  {
   "cell_type": "code",
   "execution_count": 5,
   "id": "51e527db-e7a7-409c-b1a9-67e139f968c5",
   "metadata": {},
   "outputs": [
    {
     "name": "stdout",
     "output_type": "stream",
     "text": [
      "equal\n"
     ]
    }
   ],
   "source": [
    "if x == z :\n",
    " print('equal')"
   ]
  },
  {
   "cell_type": "code",
   "execution_count": 7,
   "id": "9f483114-f5c1-429b-ad0b-67089cb2f75d",
   "metadata": {},
   "outputs": [
    {
     "name": "stdout",
     "output_type": "stream",
     "text": [
      "x is less then y\n"
     ]
    }
   ],
   "source": [
    "if x < y :\n",
    " print('x is less then y')"
   ]
  },
  {
   "cell_type": "code",
   "execution_count": 11,
   "id": "7ebf7266-ccdb-47b5-b8e8-0b3316249cdb",
   "metadata": {},
   "outputs": [
    {
     "name": "stdout",
     "output_type": "stream",
     "text": [
      "y is greater then x\n"
     ]
    }
   ],
   "source": [
    "if y > x:\n",
    " print('y is greater then x') "
   ]
  },
  {
   "cell_type": "code",
   "execution_count": 13,
   "id": "d0957541-3e1e-4e6b-af74-4c8446b411ac",
   "metadata": {},
   "outputs": [
    {
     "name": "stdout",
     "output_type": "stream",
     "text": [
      "2 conditions\n"
     ]
    }
   ],
   "source": [
    "if x <= y and x<=z :\n",
    " print('2 conditions')"
   ]
  },
  {
   "cell_type": "code",
   "execution_count": 15,
   "id": "f59f010a-b157-4acf-886f-7d5f7b923bff",
   "metadata": {},
   "outputs": [
    {
     "name": "stdout",
     "output_type": "stream",
     "text": [
      "2 conditions\n"
     ]
    }
   ],
   "source": [
    "if y >= x and x<=z :\n",
    " print('2 conditions')"
   ]
  },
  {
   "cell_type": "code",
   "execution_count": 17,
   "id": "2d93eea3-50f1-42b4-a7a5-b98eeef784d7",
   "metadata": {},
   "outputs": [
    {
     "name": "stdout",
     "output_type": "stream",
     "text": [
      "2 conditions with or\n"
     ]
    }
   ],
   "source": [
    "if y <= x or x==z :\n",
    " print('2 conditions with or')"
   ]
  },
  {
   "cell_type": "code",
   "execution_count": 19,
   "id": "16090241-b8a3-4dec-bda8-896e57e2376a",
   "metadata": {},
   "outputs": [
    {
     "name": "stdout",
     "output_type": "stream",
     "text": [
      "not part\n"
     ]
    }
   ],
   "source": [
    "if not x == y :\n",
    " print('not part')"
   ]
  },
  {
   "cell_type": "code",
   "execution_count": 23,
   "id": "224e49c9-4d26-4cdc-bedb-5f07a21fd98d",
   "metadata": {},
   "outputs": [
    {
     "ename": "IndentationError",
     "evalue": "expected an indented block after 'if' statement on line 1 (852097072.py, line 2)",
     "output_type": "error",
     "traceback": [
      "\u001b[1;36m  Cell \u001b[1;32mIn[23], line 2\u001b[1;36m\u001b[0m\n\u001b[1;33m    print('equal')\u001b[0m\n\u001b[1;37m    ^\u001b[0m\n\u001b[1;31mIndentationError\u001b[0m\u001b[1;31m:\u001b[0m expected an indented block after 'if' statement on line 1\n"
     ]
    }
   ],
   "source": [
    "if x == z :\n",
    "print('equal')"
   ]
  },
  {
   "cell_type": "code",
   "execution_count": 25,
   "id": "8d7d23f4-9720-4fc6-a533-b57d174a9780",
   "metadata": {},
   "outputs": [
    {
     "name": "stdout",
     "output_type": "stream",
     "text": [
      "equal\n"
     ]
    }
   ],
   "source": [
    "if x == z : print('equal')"
   ]
  },
  {
   "cell_type": "code",
   "execution_count": 27,
   "id": "1a767404-202d-4101-8e97-047e56df4865",
   "metadata": {},
   "outputs": [
    {
     "name": "stdout",
     "output_type": "stream",
     "text": [
      "equal\n"
     ]
    }
   ],
   "source": [
    "if x == z :\n",
    " print('equal')\n",
    "elif x!=y :\n",
    " print('not equal')"
   ]
  },
  {
   "cell_type": "code",
   "execution_count": 29,
   "id": "c8774d9e-4d35-4a8a-a733-df8f4c66147a",
   "metadata": {},
   "outputs": [],
   "source": [
    "if x != z :\n",
    " print('equal')\n",
    "elif x==y :\n",
    " print('not equal')"
   ]
  },
  {
   "cell_type": "code",
   "execution_count": 31,
   "id": "e5b682ed-df99-415f-bd70-c4a27ef1d439",
   "metadata": {},
   "outputs": [
    {
     "name": "stdout",
     "output_type": "stream",
     "text": [
      "not equal\n"
     ]
    }
   ],
   "source": [
    "if x != z :\n",
    " print('equal')\n",
    "elif x!=y :\n",
    " print('not equal')"
   ]
  },
  {
   "cell_type": "code",
   "execution_count": 33,
   "id": "c8a8ee97-1036-4650-a64a-f70ac56c4a84",
   "metadata": {},
   "outputs": [
    {
     "name": "stdout",
     "output_type": "stream",
     "text": [
      "else part\n"
     ]
    }
   ],
   "source": [
    "if x != z :\n",
    " print('equal')\n",
    "elif x==y :\n",
    " print('not equal')\n",
    "else :\n",
    " print('else part')"
   ]
  },
  {
   "cell_type": "code",
   "execution_count": 35,
   "id": "552e500d-1416-4c29-945f-c84b4cf5da5a",
   "metadata": {},
   "outputs": [
    {
     "name": "stdout",
     "output_type": "stream",
     "text": [
      "else part\n"
     ]
    }
   ],
   "source": [
    "if x != z :\n",
    " print('equal')\n",
    "else :\n",
    " print('else part')"
   ]
  },
  {
   "cell_type": "code",
   "execution_count": 37,
   "id": "9a7e1490-a1d3-4367-a1a1-b49d40f6e3a3",
   "metadata": {},
   "outputs": [
    {
     "name": "stdout",
     "output_type": "stream",
     "text": [
      "if part\n"
     ]
    }
   ],
   "source": [
    "print(\"if part\") if y > x else print(\"else part\")"
   ]
  },
  {
   "cell_type": "code",
   "execution_count": 39,
   "id": "730ad9e1-fc24-4a2b-8ded-5f1e0cadd3c2",
   "metadata": {},
   "outputs": [
    {
     "name": "stdout",
     "output_type": "stream",
     "text": [
      "else part\n"
     ]
    }
   ],
   "source": [
    "print(\"if part\") if x > y else print(\"else part\")"
   ]
  },
  {
   "cell_type": "code",
   "execution_count": 41,
   "id": "df757d54-b795-4b9e-9712-1bdde1b15977",
   "metadata": {},
   "outputs": [
    {
     "name": "stdout",
     "output_type": "stream",
     "text": [
      "equal\n",
      "else part\n"
     ]
    }
   ],
   "source": [
    "if x != y :\n",
    " print('equal')\n",
    " if x < y :\n",
    "  print('else part')"
   ]
  },
  {
   "cell_type": "code",
   "execution_count": null,
   "id": "292e8e30-2662-4ebc-b791-a331f9839177",
   "metadata": {},
   "outputs": [],
   "source": []
  }
 ],
 "metadata": {
  "kernelspec": {
   "display_name": "Python 3 (ipykernel)",
   "language": "python",
   "name": "python3"
  },
  "language_info": {
   "codemirror_mode": {
    "name": "ipython",
    "version": 3
   },
   "file_extension": ".py",
   "mimetype": "text/x-python",
   "name": "python",
   "nbconvert_exporter": "python",
   "pygments_lexer": "ipython3",
   "version": "3.12.4"
  }
 },
 "nbformat": 4,
 "nbformat_minor": 5
}
