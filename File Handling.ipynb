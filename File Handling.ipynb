{
 "cells": [
  {
   "cell_type": "markdown",
   "id": "6aa41ea1-971e-4a1b-9bdb-bcbe0c5b7cb0",
   "metadata": {},
   "source": [
    "**File handling in Python refers to the process of reading from and writing to files stored on a computer's filesystem. Python provides a built-in way to work with files using functions and methods that allow you to open, read, write, and close files in different modes.**"
   ]
  },
  {
   "cell_type": "code",
   "execution_count": 2,
   "id": "6c2044e0-1882-45bb-bbe6-58a95bc19237",
   "metadata": {},
   "outputs": [],
   "source": [
    "file1 = open(\"file1.txt\", \"x\")"
   ]
  },
  {
   "cell_type": "code",
   "execution_count": 4,
   "id": "59dd9fd2-5b85-4f64-8f38-93fd2d2c68c8",
   "metadata": {},
   "outputs": [],
   "source": [
    "file1.write(\"Hello andd welcome dosto to 5 minutes engineering\")\n",
    "file1.close()"
   ]
  },
  {
   "cell_type": "code",
   "execution_count": 6,
   "id": "71f065a7-8804-4b30-a5e6-b00be25ca717",
   "metadata": {},
   "outputs": [
    {
     "ename": "FileExistsError",
     "evalue": "[Errno 17] File exists: 'file1.txt'",
     "output_type": "error",
     "traceback": [
      "\u001b[1;31m---------------------------------------------------------------------------\u001b[0m",
      "\u001b[1;31mFileExistsError\u001b[0m                           Traceback (most recent call last)",
      "Cell \u001b[1;32mIn[6], line 1\u001b[0m\n\u001b[1;32m----> 1\u001b[0m f1 \u001b[38;5;241m=\u001b[39m \u001b[38;5;28mopen\u001b[39m(\u001b[38;5;124m\"\u001b[39m\u001b[38;5;124mfile1.txt\u001b[39m\u001b[38;5;124m\"\u001b[39m, \u001b[38;5;124m\"\u001b[39m\u001b[38;5;124mx\u001b[39m\u001b[38;5;124m\"\u001b[39m)\n",
      "File \u001b[1;32m~\\anaconda3\\Lib\\site-packages\\IPython\\core\\interactiveshell.py:324\u001b[0m, in \u001b[0;36m_modified_open\u001b[1;34m(file, *args, **kwargs)\u001b[0m\n\u001b[0;32m    317\u001b[0m \u001b[38;5;28;01mif\u001b[39;00m file \u001b[38;5;129;01min\u001b[39;00m {\u001b[38;5;241m0\u001b[39m, \u001b[38;5;241m1\u001b[39m, \u001b[38;5;241m2\u001b[39m}:\n\u001b[0;32m    318\u001b[0m     \u001b[38;5;28;01mraise\u001b[39;00m \u001b[38;5;167;01mValueError\u001b[39;00m(\n\u001b[0;32m    319\u001b[0m         \u001b[38;5;124mf\u001b[39m\u001b[38;5;124m\"\u001b[39m\u001b[38;5;124mIPython won\u001b[39m\u001b[38;5;124m'\u001b[39m\u001b[38;5;124mt let you open fd=\u001b[39m\u001b[38;5;132;01m{\u001b[39;00mfile\u001b[38;5;132;01m}\u001b[39;00m\u001b[38;5;124m by default \u001b[39m\u001b[38;5;124m\"\u001b[39m\n\u001b[0;32m    320\u001b[0m         \u001b[38;5;124m\"\u001b[39m\u001b[38;5;124mas it is likely to crash IPython. If you know what you are doing, \u001b[39m\u001b[38;5;124m\"\u001b[39m\n\u001b[0;32m    321\u001b[0m         \u001b[38;5;124m\"\u001b[39m\u001b[38;5;124myou can use builtins\u001b[39m\u001b[38;5;124m'\u001b[39m\u001b[38;5;124m open.\u001b[39m\u001b[38;5;124m\"\u001b[39m\n\u001b[0;32m    322\u001b[0m     )\n\u001b[1;32m--> 324\u001b[0m \u001b[38;5;28;01mreturn\u001b[39;00m io_open(file, \u001b[38;5;241m*\u001b[39margs, \u001b[38;5;241m*\u001b[39m\u001b[38;5;241m*\u001b[39mkwargs)\n",
      "\u001b[1;31mFileExistsError\u001b[0m: [Errno 17] File exists: 'file1.txt'"
     ]
    }
   ],
   "source": [
    "f1 = open(\"file1.txt\", \"x\")"
   ]
  },
  {
   "cell_type": "code",
   "execution_count": 8,
   "id": "e1e5f154-6c20-4324-8a61-22a0039b594d",
   "metadata": {},
   "outputs": [
    {
     "name": "stdout",
     "output_type": "stream",
     "text": [
      "Hello andd welcome dosto to 5 minutes engineering\n"
     ]
    }
   ],
   "source": [
    "file1 = open(\"file1.txt\", \"r\")\n",
    "print(file1.read())"
   ]
  },
  {
   "cell_type": "code",
   "execution_count": 10,
   "id": "7f1ec71f-23f9-4976-8aa5-8fec9a93393c",
   "metadata": {},
   "outputs": [],
   "source": [
    "file2 = open(\"file2.txt\", \"a\")\n",
    "file2.write(\"Append example\")\n",
    "file2.close()"
   ]
  },
  {
   "cell_type": "code",
   "execution_count": 12,
   "id": "9241193b-a911-42e1-bf7b-e2ec3f4ee753",
   "metadata": {},
   "outputs": [
    {
     "name": "stdout",
     "output_type": "stream",
     "text": [
      "Append example\n"
     ]
    }
   ],
   "source": [
    "file2 = open(\"file2.txt\", \"r\")\n",
    "print(file2.read())"
   ]
  },
  {
   "cell_type": "code",
   "execution_count": 14,
   "id": "404dc112-2c99-4db9-ba26-1b68c8ac4a77",
   "metadata": {},
   "outputs": [
    {
     "name": "stdout",
     "output_type": "stream",
     "text": [
      "Hello andd welcome dosto to 5 minutes engineering\n"
     ]
    }
   ],
   "source": [
    "file = open(\"file1.txt\", \"r\")\n",
    "print(file.read())"
   ]
  },
  {
   "cell_type": "code",
   "execution_count": 16,
   "id": "7c65b614-c211-44d9-ad01-a0fc754a6d77",
   "metadata": {},
   "outputs": [],
   "source": [
    "file4 = open(\"file3.txt\", \"w\")\n",
    "file4.write(\"write mode open example\")\n",
    "file4.close()"
   ]
  },
  {
   "cell_type": "code",
   "execution_count": 18,
   "id": "e304fc97-8fb6-44b4-8025-948fff25f3aa",
   "metadata": {},
   "outputs": [
    {
     "name": "stdout",
     "output_type": "stream",
     "text": [
      "write mode open example\n"
     ]
    }
   ],
   "source": [
    "file = open(\"file3.txt\", \"r\")\n",
    "print(file.read())"
   ]
  },
  {
   "cell_type": "code",
   "execution_count": 20,
   "id": "a7c0d69a-2d60-45b9-92db-782644ce6409",
   "metadata": {},
   "outputs": [],
   "source": [
    "file4 = open(\"file3.txt\", \"w\")\n",
    "file4.write(\"write mode overwrite example\")\n",
    "file4.close()"
   ]
  },
  {
   "cell_type": "code",
   "execution_count": 22,
   "id": "dd3b601d-03ea-4912-805f-37960b33328e",
   "metadata": {},
   "outputs": [
    {
     "name": "stdout",
     "output_type": "stream",
     "text": [
      "ample\n"
     ]
    }
   ],
   "source": [
    "ile = open(\"file3.txt\", \"r\")\n",
    "print(file.read())"
   ]
  },
  {
   "cell_type": "code",
   "execution_count": 24,
   "id": "84ade514-23d4-4a4e-8379-2457a9c4221c",
   "metadata": {},
   "outputs": [],
   "source": [
    "file4 = open(\"file3.txt\", \"a\")\n",
    "file4.write(\"+++append mode example\")\n",
    "file4.close()"
   ]
  },
  {
   "cell_type": "code",
   "execution_count": 26,
   "id": "1fe4dde0-c1c7-4637-aa24-af942c6ae71b",
   "metadata": {},
   "outputs": [
    {
     "name": "stdout",
     "output_type": "stream",
     "text": [
      "write mode overwrite example+++append mode example\n"
     ]
    }
   ],
   "source": [
    "file = open(\"file3.txt\", \"r\")\n",
    "print(file.read())"
   ]
  },
  {
   "cell_type": "markdown",
   "id": "ad11e3f7-7cdf-4cc5-b0d6-de3a63314cb8",
   "metadata": {},
   "source": [
    "**In Python, the os module provides a way to interact with the operating system. It allows you to perform tasks like accessing the file system, managing directories, handling environment variables, and working with system-level information and utilities.**"
   ]
  },
  {
   "cell_type": "code",
   "execution_count": null,
   "id": "cf2b6490-90df-47c1-a739-d028f4a7f359",
   "metadata": {},
   "outputs": [],
   "source": []
  }
 ],
 "metadata": {
  "kernelspec": {
   "display_name": "Python 3 (ipykernel)",
   "language": "python",
   "name": "python3"
  },
  "language_info": {
   "codemirror_mode": {
    "name": "ipython",
    "version": 3
   },
   "file_extension": ".py",
   "mimetype": "text/x-python",
   "name": "python",
   "nbconvert_exporter": "python",
   "pygments_lexer": "ipython3",
   "version": "3.12.4"
  }
 },
 "nbformat": 4,
 "nbformat_minor": 5
}
