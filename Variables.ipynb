{
 "cells": [
  {
   "cell_type": "markdown",
   "id": "5c034a0d-320c-4a06-a26b-9bd1ccbddd9a",
   "metadata": {},
   "source": [
    " Variables are storage locations in memory associated with a name. \r\n",
    "They are used to store data that can be modified during program execution"
   ]
  },
  {
   "cell_type": "code",
   "execution_count": 5,
   "id": "6dc5365e-4746-4f5b-a957-a01f71c6a8a2",
   "metadata": {},
   "outputs": [
    {
     "data": {
      "text/plain": [
       "5"
      ]
     },
     "execution_count": 5,
     "metadata": {},
     "output_type": "execute_result"
    }
   ],
   "source": [
    "a=5\n",
    "a"
   ]
  },
  {
   "cell_type": "code",
   "execution_count": 7,
   "id": "7fb633fb-2255-4d50-b8b0-d53d22b4a244",
   "metadata": {},
   "outputs": [
    {
     "data": {
      "text/plain": [
       "5"
      ]
     },
     "execution_count": 7,
     "metadata": {},
     "output_type": "execute_result"
    }
   ],
   "source": [
    "b = 'Shridhar'\n",
    "b\n",
    "a"
   ]
  },
  {
   "cell_type": "code",
   "execution_count": 9,
   "id": "4695537d-2eeb-46f9-b511-2d78e94839ca",
   "metadata": {},
   "outputs": [
    {
     "data": {
      "text/plain": [
       "'Shridhar'"
      ]
     },
     "execution_count": 9,
     "metadata": {},
     "output_type": "execute_result"
    }
   ],
   "source": [
    "c = \"Shridhar\"\n",
    "c"
   ]
  },
  {
   "cell_type": "code",
   "execution_count": 11,
   "id": "25890522-0593-413e-8006-65a43a3f7534",
   "metadata": {},
   "outputs": [
    {
     "name": "stdout",
     "output_type": "stream",
     "text": [
      "5\n",
      "Shridhar\n"
     ]
    }
   ],
   "source": [
    "print(a)\n",
    "print(b)"
   ]
  },
  {
   "cell_type": "code",
   "execution_count": 13,
   "id": "d6db388e-cd5f-49f4-af3b-466b760951ff",
   "metadata": {},
   "outputs": [
    {
     "name": "stdout",
     "output_type": "stream",
     "text": [
      "5\n",
      "5\n",
      "5.0\n"
     ]
    }
   ],
   "source": [
    "x = str(5)    \n",
    "y = int(5)    \n",
    "z = float(5)\n",
    "\n",
    "print(x)\n",
    "print(y)\n",
    "print(z)"
   ]
  },
  {
   "cell_type": "code",
   "execution_count": 15,
   "id": "76b2ddfd-eca1-467b-87f4-593672556bc7",
   "metadata": {},
   "outputs": [
    {
     "name": "stdout",
     "output_type": "stream",
     "text": [
      "<class 'str'>\n",
      "<class 'int'>\n",
      "<class 'float'>\n"
     ]
    }
   ],
   "source": [
    "print(type(x))\n",
    "print(type(y))\n",
    "print(type(z))"
   ]
  },
  {
   "cell_type": "code",
   "execution_count": 19,
   "id": "56a15f3b-baa3-444c-9553-05e6204a93c7",
   "metadata": {},
   "outputs": [
    {
     "name": "stdout",
     "output_type": "stream",
     "text": [
      "Shridhar\n",
      "Mankar\n"
     ]
    }
   ],
   "source": [
    "p = 'Shridhar'\n",
    "P = 'Mankar'\n",
    "\n",
    "print(p)\n",
    "print(P)"
   ]
  },
  {
   "cell_type": "code",
   "execution_count": 21,
   "id": "f7715bb1-6b0d-4c77-b334-966fbca53956",
   "metadata": {},
   "outputs": [
    {
     "name": "stdout",
     "output_type": "stream",
     "text": [
      "Shridhar Mankar\n"
     ]
    }
   ],
   "source": [
    "print(p + ' ' + P)"
   ]
  },
  {
   "cell_type": "code",
   "execution_count": 23,
   "id": "eabee849-831c-4b10-87b4-442abe748f99",
   "metadata": {},
   "outputs": [
    {
     "name": "stdout",
     "output_type": "stream",
     "text": [
      "10\n"
     ]
    }
   ],
   "source": [
    "print(a+y)"
   ]
  },
  {
   "cell_type": "code",
   "execution_count": 25,
   "id": "22ab83a4-7641-4d42-b28b-f7412535ab87",
   "metadata": {},
   "outputs": [
    {
     "ename": "TypeError",
     "evalue": "unsupported operand type(s) for +: 'int' and 'str'",
     "output_type": "error",
     "traceback": [
      "\u001b[1;31m---------------------------------------------------------------------------\u001b[0m",
      "\u001b[1;31mTypeError\u001b[0m                                 Traceback (most recent call last)",
      "Cell \u001b[1;32mIn[25], line 1\u001b[0m\n\u001b[1;32m----> 1\u001b[0m \u001b[38;5;28mprint\u001b[39m(a\u001b[38;5;241m+\u001b[39mb)\n",
      "\u001b[1;31mTypeError\u001b[0m: unsupported operand type(s) for +: 'int' and 'str'"
     ]
    }
   ],
   "source": [
    "print(a+b)"
   ]
  },
  {
   "cell_type": "code",
   "execution_count": 27,
   "id": "d928539b-ad75-4c28-8615-98a2ae07ddb9",
   "metadata": {},
   "outputs": [],
   "source": [
    "variable = 5\n",
    "vari_able = 5\n",
    "_variable = 5\n",
    "Variable = 5\n",
    "VARIABLE = 5\n",
    "variable5 = 5"
   ]
  },
  {
   "cell_type": "code",
   "execution_count": 29,
   "id": "4a01d901-e1fd-45e5-9e2b-083cb58cd98f",
   "metadata": {},
   "outputs": [
    {
     "ename": "SyntaxError",
     "evalue": "invalid decimal literal (3299328541.py, line 1)",
     "output_type": "error",
     "traceback": [
      "\u001b[1;36m  Cell \u001b[1;32mIn[29], line 1\u001b[1;36m\u001b[0m\n\u001b[1;33m    5variable = 5\u001b[0m\n\u001b[1;37m    ^\u001b[0m\n\u001b[1;31mSyntaxError\u001b[0m\u001b[1;31m:\u001b[0m invalid decimal literal\n"
     ]
    }
   ],
   "source": [
    "5variable = 5"
   ]
  },
  {
   "cell_type": "code",
   "execution_count": 31,
   "id": "e73e7943-bc1e-41a0-8d20-52cce9497a60",
   "metadata": {},
   "outputs": [
    {
     "ename": "SyntaxError",
     "evalue": "cannot assign to expression here. Maybe you meant '==' instead of '='? (2218485038.py, line 1)",
     "output_type": "error",
     "traceback": [
      "\u001b[1;36m  Cell \u001b[1;32mIn[31], line 1\u001b[1;36m\u001b[0m\n\u001b[1;33m    vari-able = 5\u001b[0m\n\u001b[1;37m    ^\u001b[0m\n\u001b[1;31mSyntaxError\u001b[0m\u001b[1;31m:\u001b[0m cannot assign to expression here. Maybe you meant '==' instead of '='?\n"
     ]
    }
   ],
   "source": [
    "vari-able = 5\n"
   ]
  },
  {
   "cell_type": "code",
   "execution_count": 33,
   "id": "003e54fc-24c1-40d3-a6e4-5ea176a86a74",
   "metadata": {},
   "outputs": [
    {
     "ename": "SyntaxError",
     "evalue": "invalid syntax (3601564415.py, line 1)",
     "output_type": "error",
     "traceback": [
      "\u001b[1;36m  Cell \u001b[1;32mIn[33], line 1\u001b[1;36m\u001b[0m\n\u001b[1;33m    var$able = 5\u001b[0m\n\u001b[1;37m       ^\u001b[0m\n\u001b[1;31mSyntaxError\u001b[0m\u001b[1;31m:\u001b[0m invalid syntax\n"
     ]
    }
   ],
   "source": [
    "var$able = 5"
   ]
  },
  {
   "cell_type": "code",
   "execution_count": 35,
   "id": "076cd997-f86e-4f4d-b375-fbdfd03a38ca",
   "metadata": {},
   "outputs": [
    {
     "ename": "SyntaxError",
     "evalue": "invalid syntax (1683983009.py, line 1)",
     "output_type": "error",
     "traceback": [
      "\u001b[1;36m  Cell \u001b[1;32mIn[35], line 1\u001b[1;36m\u001b[0m\n\u001b[1;33m    vari able =5\u001b[0m\n\u001b[1;37m         ^\u001b[0m\n\u001b[1;31mSyntaxError\u001b[0m\u001b[1;31m:\u001b[0m invalid syntax\n"
     ]
    }
   ],
   "source": [
    "vari able =5"
   ]
  },
  {
   "cell_type": "code",
   "execution_count": 37,
   "id": "410fc3e9-fbc8-4e86-86ac-f7783cbb0991",
   "metadata": {},
   "outputs": [],
   "source": [
    "Variable1,Variable2,Variable3  = '1','2','3' "
   ]
  },
  {
   "cell_type": "code",
   "execution_count": 39,
   "id": "4e820cfd-472f-4d6d-9dba-bc1953db9efa",
   "metadata": {},
   "outputs": [
    {
     "name": "stdout",
     "output_type": "stream",
     "text": [
      "1\n",
      "2\n",
      "3\n"
     ]
    }
   ],
   "source": [
    "print(Variable1)\n",
    "print(Variable2)\n",
    "print(Variable3)"
   ]
  },
  {
   "cell_type": "code",
   "execution_count": 41,
   "id": "232611be-accb-4800-bec0-a6bd85d6d5ba",
   "metadata": {},
   "outputs": [],
   "source": [
    "Variable1=Variable2=Variable3 = 5"
   ]
  },
  {
   "cell_type": "code",
   "execution_count": 43,
   "id": "aa0ba94a-b03e-4269-ac3c-7c541f62bfa1",
   "metadata": {},
   "outputs": [
    {
     "name": "stdout",
     "output_type": "stream",
     "text": [
      "5\n",
      "5\n",
      "5\n"
     ]
    }
   ],
   "source": [
    "print(Variable1)\n",
    "print(Variable2)\n",
    "print(Variable3)"
   ]
  },
  {
   "cell_type": "code",
   "execution_count": null,
   "id": "a44b8e63-449e-40b7-9e91-6daf383a4ae6",
   "metadata": {},
   "outputs": [],
   "source": []
  }
 ],
 "metadata": {
  "kernelspec": {
   "display_name": "Python 3 (ipykernel)",
   "language": "python",
   "name": "python3"
  },
  "language_info": {
   "codemirror_mode": {
    "name": "ipython",
    "version": 3
   },
   "file_extension": ".py",
   "mimetype": "text/x-python",
   "name": "python",
   "nbconvert_exporter": "python",
   "pygments_lexer": "ipython3",
   "version": "3.12.4"
  }
 },
 "nbformat": 4,
 "nbformat_minor": 5
}
