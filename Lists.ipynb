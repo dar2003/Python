{
 "cells": [
  {
   "cell_type": "markdown",
   "id": "1d056fca-fef4-4a89-ac28-34da289d6b84",
   "metadata": {},
   "source": [
    "**a list is a mutable, ordered collection that can store a sequence of items. Lists are one of Python's built-in data types, and they are very flexible, allowing elements of any data type (integers, strings, other lists, etc.) to be stored together. Lists are defined by placing elements within square brackets ([ ]) and separating them with commas.**"
   ]
  },
  {
   "cell_type": "code",
   "execution_count": 1,
   "id": "b2b60dbd-7eec-4ed6-9409-2487a0f30249",
   "metadata": {},
   "outputs": [],
   "source": [
    "list1 = [1,2,3,4,5]"
   ]
  },
  {
   "cell_type": "code",
   "execution_count": 3,
   "id": "b4c8646d-9d58-4fee-b4fe-bad17f78e7bf",
   "metadata": {},
   "outputs": [],
   "source": [
    "list2 = ['one','two','three']"
   ]
  },
  {
   "cell_type": "code",
   "execution_count": 5,
   "id": "989d49e4-a470-4c67-9923-6c49e799674e",
   "metadata": {},
   "outputs": [],
   "source": [
    "list3 = [True, False]"
   ]
  },
  {
   "cell_type": "code",
   "execution_count": 7,
   "id": "473f830d-7a5a-4b05-af3f-6ee2584d43f9",
   "metadata": {},
   "outputs": [],
   "source": [
    "list4 = [5j , 1+2j]"
   ]
  },
  {
   "cell_type": "code",
   "execution_count": 9,
   "id": "bd2e6752-a3cd-405f-b499-47953263283e",
   "metadata": {},
   "outputs": [
    {
     "name": "stdout",
     "output_type": "stream",
     "text": [
      "<class 'list'>\n",
      "<class 'list'>\n",
      "<class 'list'>\n",
      "<class 'list'>\n"
     ]
    }
   ],
   "source": [
    "print(type(list1))\n",
    "print(type(list2))\n",
    "print(type(list3))\n",
    "print(type(list4))"
   ]
  },
  {
   "cell_type": "code",
   "execution_count": 11,
   "id": "3bb2e560-7c8e-4fca-9490-5f3c379b42ac",
   "metadata": {},
   "outputs": [
    {
     "data": {
      "text/plain": [
       "1"
      ]
     },
     "execution_count": 11,
     "metadata": {},
     "output_type": "execute_result"
    }
   ],
   "source": [
    "list1[0]"
   ]
  },
  {
   "cell_type": "code",
   "execution_count": 13,
   "id": "15b3d4d9-22f2-401b-b433-74f756f7cfaf",
   "metadata": {},
   "outputs": [
    {
     "data": {
      "text/plain": [
       "'two'"
      ]
     },
     "execution_count": 13,
     "metadata": {},
     "output_type": "execute_result"
    }
   ],
   "source": [
    "list2[1]"
   ]
  },
  {
   "cell_type": "code",
   "execution_count": 15,
   "id": "08bf721d-0b45-4680-a589-c83cfe3d69fe",
   "metadata": {},
   "outputs": [
    {
     "data": {
      "text/plain": [
       "False"
      ]
     },
     "execution_count": 15,
     "metadata": {},
     "output_type": "execute_result"
    }
   ],
   "source": [
    "list3[1]"
   ]
  },
  {
   "cell_type": "code",
   "execution_count": 17,
   "id": "db98f5bf-e5e1-422d-abcf-e4a4975bb8f3",
   "metadata": {},
   "outputs": [
    {
     "data": {
      "text/plain": [
       "5j"
      ]
     },
     "execution_count": 17,
     "metadata": {},
     "output_type": "execute_result"
    }
   ],
   "source": [
    "list4[0]"
   ]
  },
  {
   "cell_type": "code",
   "execution_count": 19,
   "id": "3338587f-30d7-4ac8-92ab-2e1afdbd6456",
   "metadata": {},
   "outputs": [
    {
     "data": {
      "text/plain": [
       "5"
      ]
     },
     "execution_count": 19,
     "metadata": {},
     "output_type": "execute_result"
    }
   ],
   "source": [
    "list1[-1]"
   ]
  },
  {
   "cell_type": "code",
   "execution_count": 21,
   "id": "a342cad1-856f-411d-9db8-0807deb6af0c",
   "metadata": {},
   "outputs": [
    {
     "data": {
      "text/plain": [
       "4"
      ]
     },
     "execution_count": 21,
     "metadata": {},
     "output_type": "execute_result"
    }
   ],
   "source": [
    "list1[-2]"
   ]
  },
  {
   "cell_type": "code",
   "execution_count": 23,
   "id": "7a425cd5-cf61-4600-8a12-ce66c7917e62",
   "metadata": {},
   "outputs": [
    {
     "data": {
      "text/plain": [
       "[2, 3, 4]"
      ]
     },
     "execution_count": 23,
     "metadata": {},
     "output_type": "execute_result"
    }
   ],
   "source": [
    "list1[1:4]"
   ]
  },
  {
   "cell_type": "code",
   "execution_count": 25,
   "id": "0ce9447e-206a-4c65-a4eb-1cf836f6bb57",
   "metadata": {},
   "outputs": [
    {
     "data": {
      "text/plain": [
       "[1, 2, 3]"
      ]
     },
     "execution_count": 25,
     "metadata": {},
     "output_type": "execute_result"
    }
   ],
   "source": [
    "list1[:3]"
   ]
  },
  {
   "cell_type": "code",
   "execution_count": 27,
   "id": "5d79396c-db5e-41e8-978b-4f9bec9da508",
   "metadata": {},
   "outputs": [
    {
     "data": {
      "text/plain": [
       "[3, 4, 5]"
      ]
     },
     "execution_count": 27,
     "metadata": {},
     "output_type": "execute_result"
    }
   ],
   "source": [
    "list1[2:]"
   ]
  },
  {
   "cell_type": "code",
   "execution_count": 29,
   "id": "6815b624-80db-426d-b0a4-4a97128b2f31",
   "metadata": {},
   "outputs": [
    {
     "data": {
      "text/plain": [
       "[3, 4]"
      ]
     },
     "execution_count": 29,
     "metadata": {},
     "output_type": "execute_result"
    }
   ],
   "source": [
    "list1[-3:-1]"
   ]
  },
  {
   "cell_type": "code",
   "execution_count": 31,
   "id": "fe830eb7-5c49-4357-bc5c-2feeb3a7e10a",
   "metadata": {},
   "outputs": [],
   "source": [
    "list1.append(6)"
   ]
  },
  {
   "cell_type": "code",
   "execution_count": 33,
   "id": "0c8e44d8-ae97-4457-9fc9-da7311c3b075",
   "metadata": {},
   "outputs": [
    {
     "data": {
      "text/plain": [
       "[1, 2, 3, 4, 5, 6]"
      ]
     },
     "execution_count": 33,
     "metadata": {},
     "output_type": "execute_result"
    }
   ],
   "source": [
    "list1"
   ]
  },
  {
   "cell_type": "code",
   "execution_count": 35,
   "id": "fb9576a3-bb69-48d3-a6d1-5171fde2c2b2",
   "metadata": {},
   "outputs": [
    {
     "ename": "IndexError",
     "evalue": "list assignment index out of range",
     "output_type": "error",
     "traceback": [
      "\u001b[1;31m---------------------------------------------------------------------------\u001b[0m",
      "\u001b[1;31mIndexError\u001b[0m                                Traceback (most recent call last)",
      "Cell \u001b[1;32mIn[35], line 1\u001b[0m\n\u001b[1;32m----> 1\u001b[0m list2[\u001b[38;5;241m3\u001b[39m] \u001b[38;5;241m=\u001b[39m \u001b[38;5;124m'\u001b[39m\u001b[38;5;124mfour\u001b[39m\u001b[38;5;124m'\u001b[39m\n",
      "\u001b[1;31mIndexError\u001b[0m: list assignment index out of range"
     ]
    }
   ],
   "source": [
    "list2[3] = 'four'"
   ]
  },
  {
   "cell_type": "code",
   "execution_count": 37,
   "id": "709e82cf-32cd-4efd-8b41-9626b9229805",
   "metadata": {},
   "outputs": [
    {
     "data": {
      "text/plain": [
       "['one', 'two', 'three']"
      ]
     },
     "execution_count": 37,
     "metadata": {},
     "output_type": "execute_result"
    }
   ],
   "source": [
    "list2"
   ]
  },
  {
   "cell_type": "code",
   "execution_count": 39,
   "id": "2338f409-2a73-426f-bbc3-3d042e161959",
   "metadata": {},
   "outputs": [
    {
     "data": {
      "text/plain": [
       "[0, 1, 2, 3, 4, 5, 6]"
      ]
     },
     "execution_count": 39,
     "metadata": {},
     "output_type": "execute_result"
    }
   ],
   "source": [
    "list1.insert(0,0)\n",
    "list1\n"
   ]
  },
  {
   "cell_type": "code",
   "execution_count": 41,
   "id": "fd0cd20c-796f-4755-ab91-7b6526a97025",
   "metadata": {},
   "outputs": [
    {
     "data": {
      "text/plain": [
       "['zero', 'one', 'two', 'three']"
      ]
     },
     "execution_count": 41,
     "metadata": {},
     "output_type": "execute_result"
    }
   ],
   "source": [
    "list2.insert(0,'zero')\n",
    "list2"
   ]
  },
  {
   "cell_type": "code",
   "execution_count": 43,
   "id": "db908b8c-650a-4e3c-9c1c-cc9dbd735b62",
   "metadata": {},
   "outputs": [
    {
     "data": {
      "text/plain": [
       "[10, 20, 30, 'hello', 'and', 'welcome', 'dosto']"
      ]
     },
     "execution_count": 43,
     "metadata": {},
     "output_type": "execute_result"
    }
   ],
   "source": [
    "list5 = [10,20,30,'hello','and','welcome',\"dosto\"]\n",
    "list5"
   ]
  },
  {
   "cell_type": "code",
   "execution_count": 45,
   "id": "ac2bbb6c-6ac6-4321-9368-3d278f383432",
   "metadata": {},
   "outputs": [
    {
     "data": {
      "text/plain": [
       "[0, 1, 2, 3, 4, 5, 6, 'zero', 'one', 'two', 'three']"
      ]
     },
     "execution_count": 45,
     "metadata": {},
     "output_type": "execute_result"
    }
   ],
   "source": [
    "list1.extend(list2)\n",
    "list1"
   ]
  },
  {
   "cell_type": "code",
   "execution_count": 47,
   "id": "8da54e5a-31a3-417c-9813-c698bb713f52",
   "metadata": {},
   "outputs": [
    {
     "data": {
      "text/plain": [
       "[20, 30, 'hello', 'and', 'welcome', 'dosto']"
      ]
     },
     "execution_count": 47,
     "metadata": {},
     "output_type": "execute_result"
    }
   ],
   "source": [
    "list5.remove(10)\n",
    "list5"
   ]
  },
  {
   "cell_type": "code",
   "execution_count": 53,
   "id": "59b54b80-f6bc-4b43-98f9-6e227ae4312d",
   "metadata": {},
   "outputs": [
    {
     "data": {
      "text/plain": [
       "'three'"
      ]
     },
     "execution_count": 53,
     "metadata": {},
     "output_type": "execute_result"
    }
   ],
   "source": [
    "list1.pop()"
   ]
  },
  {
   "cell_type": "code",
   "execution_count": 57,
   "id": "ed810b04-c32c-459a-9473-9e09de623341",
   "metadata": {},
   "outputs": [
    {
     "data": {
      "text/plain": [
       "['one', 'three', 'two', 'zero']"
      ]
     },
     "execution_count": 57,
     "metadata": {},
     "output_type": "execute_result"
    }
   ],
   "source": [
    "list2.sort()\n",
    "list2"
   ]
  },
  {
   "cell_type": "code",
   "execution_count": 59,
   "id": "fb3f727e-e913-4983-87d9-82b406efcaed",
   "metadata": {},
   "outputs": [
    {
     "data": {
      "text/plain": [
       "['zero', 'two', 'three', 'one']"
      ]
     },
     "execution_count": 59,
     "metadata": {},
     "output_type": "execute_result"
    }
   ],
   "source": [
    "list2.reverse() \n",
    "list2"
   ]
  },
  {
   "cell_type": "code",
   "execution_count": 65,
   "id": "5109683a-4b51-4f93-9f0b-31fb7f4d2e2f",
   "metadata": {},
   "outputs": [],
   "source": [
    "list4=list1.copy() "
   ]
  },
  {
   "cell_type": "code",
   "execution_count": 67,
   "id": "ec4428d1-aeff-4088-bdaf-0683c88e1003",
   "metadata": {},
   "outputs": [
    {
     "data": {
      "text/plain": [
       "[0, 1, 2, 3, 4, 5, 6, 'zero', 'one', 'two']"
      ]
     },
     "execution_count": 67,
     "metadata": {},
     "output_type": "execute_result"
    }
   ],
   "source": [
    "list4"
   ]
  },
  {
   "cell_type": "code",
   "execution_count": 69,
   "id": "e68ddd02-56ee-464d-b99e-dc5d68d3f687",
   "metadata": {},
   "outputs": [],
   "source": [
    "list5 = list(list4)"
   ]
  },
  {
   "cell_type": "code",
   "execution_count": 71,
   "id": "1a5f3eab-3083-4f5d-8ec1-2823c6e2ed00",
   "metadata": {},
   "outputs": [],
   "source": [
    "list5.clear()"
   ]
  },
  {
   "cell_type": "code",
   "execution_count": 73,
   "id": "f4c8e2c4-e12e-4f9f-a2cb-7145fcb39c08",
   "metadata": {},
   "outputs": [
    {
     "data": {
      "text/plain": [
       "[]"
      ]
     },
     "execution_count": 73,
     "metadata": {},
     "output_type": "execute_result"
    }
   ],
   "source": [
    "list5"
   ]
  },
  {
   "cell_type": "code",
   "execution_count": null,
   "id": "58475ee3-2510-4ebb-9df8-07a1309b5a8d",
   "metadata": {},
   "outputs": [],
   "source": []
  }
 ],
 "metadata": {
  "kernelspec": {
   "display_name": "Python 3 (ipykernel)",
   "language": "python",
   "name": "python3"
  },
  "language_info": {
   "codemirror_mode": {
    "name": "ipython",
    "version": 3
   },
   "file_extension": ".py",
   "mimetype": "text/x-python",
   "name": "python",
   "nbconvert_exporter": "python",
   "pygments_lexer": "ipython3",
   "version": "3.12.4"
  }
 },
 "nbformat": 4,
 "nbformat_minor": 5
}
