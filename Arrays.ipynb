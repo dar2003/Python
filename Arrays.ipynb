{
 "cells": [
  {
   "cell_type": "markdown",
   "id": "3c4b535b-b205-4297-ae19-e7af6fb2c847",
   "metadata": {},
   "source": [
    "**an array is a data structure that stores a collection of items, all of the same type, in a contiguous memory block.**"
   ]
  },
  {
   "cell_type": "code",
   "execution_count": 1,
   "id": "127bf7fb-db39-4686-926d-25943f26975c",
   "metadata": {},
   "outputs": [],
   "source": [
    "arr1 = ['pune',\"mumbai\",'surat',\"kolkata\",'bihar',\"jaipur\",'chennai']"
   ]
  },
  {
   "cell_type": "code",
   "execution_count": 3,
   "id": "9577cae8-45a8-4760-89d2-5d38ae07e541",
   "metadata": {},
   "outputs": [
    {
     "data": {
      "text/plain": [
       "list"
      ]
     },
     "execution_count": 3,
     "metadata": {},
     "output_type": "execute_result"
    }
   ],
   "source": [
    "type(arr1)"
   ]
  },
  {
   "cell_type": "code",
   "execution_count": 5,
   "id": "599ad1d8-b3c3-4717-8711-b899aa625336",
   "metadata": {},
   "outputs": [
    {
     "data": {
      "text/plain": [
       "'pune'"
      ]
     },
     "execution_count": 5,
     "metadata": {},
     "output_type": "execute_result"
    }
   ],
   "source": [
    "arr1[0]"
   ]
  },
  {
   "cell_type": "code",
   "execution_count": 7,
   "id": "98a123ec-b828-49e9-b0f2-50c9a830878e",
   "metadata": {},
   "outputs": [],
   "source": [
    "import numpy\n",
    "arr2 = numpy.array([10,20,30,40,50])"
   ]
  },
  {
   "cell_type": "code",
   "execution_count": 9,
   "id": "b283bc09-0542-4d92-b855-adb9c820d0c9",
   "metadata": {},
   "outputs": [
    {
     "data": {
      "text/plain": [
       "numpy.ndarray"
      ]
     },
     "execution_count": 9,
     "metadata": {},
     "output_type": "execute_result"
    }
   ],
   "source": [
    "type(arr2)"
   ]
  },
  {
   "cell_type": "code",
   "execution_count": 11,
   "id": "87fd22c1-6d1f-4a62-81c1-20e2b31226df",
   "metadata": {},
   "outputs": [
    {
     "name": "stdout",
     "output_type": "stream",
     "text": [
      "[10 20 30 40 50]\n"
     ]
    }
   ],
   "source": [
    "print(arr2)"
   ]
  },
  {
   "cell_type": "code",
   "execution_count": 13,
   "id": "11d4060f-e94e-411c-9cbb-f7468dd3d67b",
   "metadata": {},
   "outputs": [
    {
     "data": {
      "text/plain": [
       "array([10, 20, 30, 40, 50])"
      ]
     },
     "execution_count": 13,
     "metadata": {},
     "output_type": "execute_result"
    }
   ],
   "source": [
    "arr2"
   ]
  },
  {
   "cell_type": "code",
   "execution_count": 15,
   "id": "31226b4b-7f94-4fe2-9f07-6c0062da9d73",
   "metadata": {},
   "outputs": [],
   "source": [
    "arr3 = numpy.array((100,200,300,400,500))"
   ]
  },
  {
   "cell_type": "code",
   "execution_count": 17,
   "id": "c0279d48-e2a0-41fb-8208-ac3275f8eef3",
   "metadata": {},
   "outputs": [
    {
     "data": {
      "text/plain": [
       "numpy.ndarray"
      ]
     },
     "execution_count": 17,
     "metadata": {},
     "output_type": "execute_result"
    }
   ],
   "source": [
    "type(arr3)"
   ]
  },
  {
   "cell_type": "code",
   "execution_count": 19,
   "id": "327d0f10-b202-4309-813e-f31f34131ebe",
   "metadata": {},
   "outputs": [],
   "source": [
    "import numpy as np\n",
    "a0 = np.array(10)"
   ]
  },
  {
   "cell_type": "code",
   "execution_count": 21,
   "id": "881d92bd-642a-46f8-93e0-172fd018f894",
   "metadata": {},
   "outputs": [
    {
     "name": "stdout",
     "output_type": "stream",
     "text": [
      "10\n"
     ]
    }
   ],
   "source": [
    "print(a0)"
   ]
  },
  {
   "cell_type": "code",
   "execution_count": 23,
   "id": "d5567c62-e516-4f49-8470-626c96a82bbf",
   "metadata": {},
   "outputs": [
    {
     "data": {
      "text/plain": [
       "0"
      ]
     },
     "execution_count": 23,
     "metadata": {},
     "output_type": "execute_result"
    }
   ],
   "source": [
    "a0.ndim"
   ]
  },
  {
   "cell_type": "code",
   "execution_count": 25,
   "id": "7fa5ede8-b6dc-43d9-a941-6c65cf6eb03c",
   "metadata": {},
   "outputs": [
    {
     "data": {
      "text/plain": [
       "array(10)"
      ]
     },
     "execution_count": 25,
     "metadata": {},
     "output_type": "execute_result"
    }
   ],
   "source": [
    "a0"
   ]
  },
  {
   "cell_type": "code",
   "execution_count": 27,
   "id": "f3c8940c-6791-46ce-acf2-f4afdadd6102",
   "metadata": {},
   "outputs": [],
   "source": [
    "a1 = np.array([1,2,3,4,5,6,7,8,9,10])"
   ]
  },
  {
   "cell_type": "code",
   "execution_count": 29,
   "id": "d63d689e-e6ac-446f-bd8d-3b6ecfa96700",
   "metadata": {},
   "outputs": [
    {
     "data": {
      "text/plain": [
       "array([ 1,  2,  3,  4,  5,  6,  7,  8,  9, 10])"
      ]
     },
     "execution_count": 29,
     "metadata": {},
     "output_type": "execute_result"
    }
   ],
   "source": [
    "a1"
   ]
  },
  {
   "cell_type": "code",
   "execution_count": 31,
   "id": "681fab05-a302-4766-8ff7-b5a2789b1290",
   "metadata": {},
   "outputs": [
    {
     "data": {
      "text/plain": [
       "1"
      ]
     },
     "execution_count": 31,
     "metadata": {},
     "output_type": "execute_result"
    }
   ],
   "source": [
    "a1.ndim\n"
   ]
  },
  {
   "cell_type": "code",
   "execution_count": 33,
   "id": "93a5e0b6-7f80-47d3-9387-009b4fb5518d",
   "metadata": {},
   "outputs": [],
   "source": [
    "a2 = np.array([[1,2,3],[10,20,30],[100,200,300],[1000,2000,3000]])"
   ]
  },
  {
   "cell_type": "code",
   "execution_count": 35,
   "id": "0dbfe8b0-9f5c-4963-b53c-2bbcd29468f5",
   "metadata": {},
   "outputs": [
    {
     "data": {
      "text/plain": [
       "array([[   1,    2,    3],\n",
       "       [  10,   20,   30],\n",
       "       [ 100,  200,  300],\n",
       "       [1000, 2000, 3000]])"
      ]
     },
     "execution_count": 35,
     "metadata": {},
     "output_type": "execute_result"
    }
   ],
   "source": [
    "a2"
   ]
  },
  {
   "cell_type": "code",
   "execution_count": 37,
   "id": "9ebe58f9-2a62-41b6-9b2f-f93f9fb71b0c",
   "metadata": {},
   "outputs": [
    {
     "data": {
      "text/plain": [
       "2"
      ]
     },
     "execution_count": 37,
     "metadata": {},
     "output_type": "execute_result"
    }
   ],
   "source": [
    "a2.ndim"
   ]
  },
  {
   "cell_type": "code",
   "execution_count": 39,
   "id": "19bbf125-7c4b-4dd9-9ed1-bf7254b88c71",
   "metadata": {},
   "outputs": [],
   "source": [
    "a3 = np.array([[[1,2,3],[10,20,30]],[[100,200,300],[1000,2000,3000]]])"
   ]
  },
  {
   "cell_type": "code",
   "execution_count": 41,
   "id": "1778e150-80af-499d-a2ed-93a1101c624d",
   "metadata": {},
   "outputs": [
    {
     "data": {
      "text/plain": [
       "array([[[   1,    2,    3],\n",
       "        [  10,   20,   30]],\n",
       "\n",
       "       [[ 100,  200,  300],\n",
       "        [1000, 2000, 3000]]])"
      ]
     },
     "execution_count": 41,
     "metadata": {},
     "output_type": "execute_result"
    }
   ],
   "source": [
    "a3"
   ]
  },
  {
   "cell_type": "code",
   "execution_count": 43,
   "id": "14f02fdf-16f2-4f60-a2c4-dbc4dedd8d56",
   "metadata": {},
   "outputs": [
    {
     "data": {
      "text/plain": [
       "3"
      ]
     },
     "execution_count": 43,
     "metadata": {},
     "output_type": "execute_result"
    }
   ],
   "source": [
    "a3.ndim"
   ]
  },
  {
   "cell_type": "code",
   "execution_count": 45,
   "id": "21f5a65e-4fc9-4218-a78b-1c1d19f54498",
   "metadata": {},
   "outputs": [],
   "source": [
    "a4 = np.array([4,44,444,4444], ndmin=4)"
   ]
  },
  {
   "cell_type": "code",
   "execution_count": 47,
   "id": "e2adfbf8-9f65-4691-a476-fc5e747fdf5e",
   "metadata": {},
   "outputs": [
    {
     "data": {
      "text/plain": [
       "array([[[[   4,   44,  444, 4444]]]])"
      ]
     },
     "execution_count": 47,
     "metadata": {},
     "output_type": "execute_result"
    }
   ],
   "source": [
    "a4"
   ]
  },
  {
   "cell_type": "code",
   "execution_count": 49,
   "id": "0969a1c1-73de-4496-b50c-9d213e3d279d",
   "metadata": {},
   "outputs": [
    {
     "data": {
      "text/plain": [
       "4"
      ]
     },
     "execution_count": 49,
     "metadata": {},
     "output_type": "execute_result"
    }
   ],
   "source": [
    "a4.ndim"
   ]
  },
  {
   "cell_type": "code",
   "execution_count": 51,
   "id": "970aee85-a34a-4d25-8366-23a2f5523af9",
   "metadata": {},
   "outputs": [],
   "source": [
    "amix1 = np.array(['pune',1,\"mumbai\",2])"
   ]
  },
  {
   "cell_type": "code",
   "execution_count": 53,
   "id": "98fc2421-fde1-4ba2-b121-dd5274cf982e",
   "metadata": {},
   "outputs": [
    {
     "data": {
      "text/plain": [
       "array(['pune', '1', 'mumbai', '2'], dtype='<U11')"
      ]
     },
     "execution_count": 53,
     "metadata": {},
     "output_type": "execute_result"
    }
   ],
   "source": [
    "amix1"
   ]
  },
  {
   "cell_type": "code",
   "execution_count": 55,
   "id": "870f2757-5e3b-4bd6-b3c3-a5ad42566e80",
   "metadata": {},
   "outputs": [
    {
     "data": {
      "text/plain": [
       "numpy.ndarray"
      ]
     },
     "execution_count": 55,
     "metadata": {},
     "output_type": "execute_result"
    }
   ],
   "source": [
    "type(amix1)"
   ]
  },
  {
   "cell_type": "code",
   "execution_count": 57,
   "id": "c253ac6e-ad16-4e5b-838c-52683381b735",
   "metadata": {},
   "outputs": [],
   "source": [
    "amix2 = np.array([True,5])"
   ]
  },
  {
   "cell_type": "code",
   "execution_count": 61,
   "id": "ee8334d8-f46c-40a6-bed7-de46784344d2",
   "metadata": {},
   "outputs": [
    {
     "data": {
      "text/plain": [
       "array([1, 5])"
      ]
     },
     "execution_count": 61,
     "metadata": {},
     "output_type": "execute_result"
    }
   ],
   "source": [
    "amix2"
   ]
  },
  {
   "cell_type": "code",
   "execution_count": 63,
   "id": "8c91acd5-a3b5-45ca-9c63-25ba098a146d",
   "metadata": {},
   "outputs": [],
   "source": [
    "amix3 = np.array([False,10])"
   ]
  },
  {
   "cell_type": "code",
   "execution_count": 65,
   "id": "c213aa14-75f1-4f85-a746-36c2978e0078",
   "metadata": {},
   "outputs": [
    {
     "data": {
      "text/plain": [
       "array([ 0, 10])"
      ]
     },
     "execution_count": 65,
     "metadata": {},
     "output_type": "execute_result"
    }
   ],
   "source": [
    "amix3"
   ]
  },
  {
   "cell_type": "code",
   "execution_count": 67,
   "id": "f0c42a01-fe9e-466d-ac48-6626603b3c28",
   "metadata": {},
   "outputs": [],
   "source": [
    "amix4 = np.array([True,'shridhar',5,5.0])"
   ]
  },
  {
   "cell_type": "code",
   "execution_count": 69,
   "id": "a9092d46-1e54-4126-9646-491d96da92da",
   "metadata": {},
   "outputs": [
    {
     "data": {
      "text/plain": [
       "array(['True', 'shridhar', '5', '5.0'], dtype='<U32')"
      ]
     },
     "execution_count": 69,
     "metadata": {},
     "output_type": "execute_result"
    }
   ],
   "source": [
    "amix4"
   ]
  },
  {
   "cell_type": "code",
   "execution_count": 71,
   "id": "90663174-0009-43fd-9198-41c434a14995",
   "metadata": {},
   "outputs": [],
   "source": [
    "amix6 = np.array([False,10],dtype = np.int32)"
   ]
  },
  {
   "cell_type": "code",
   "execution_count": 75,
   "id": "f04a5275-95a8-4a36-a1ee-29556ce7783f",
   "metadata": {},
   "outputs": [
    {
     "data": {
      "text/plain": [
       "array([ 0, 10])"
      ]
     },
     "execution_count": 75,
     "metadata": {},
     "output_type": "execute_result"
    }
   ],
   "source": [
    "amix6"
   ]
  },
  {
   "cell_type": "code",
   "execution_count": 77,
   "id": "6079f861-5a58-433e-9313-41ce6503de67",
   "metadata": {},
   "outputs": [],
   "source": [
    "amix7 = np.array([1,5.55,2,6.9], dtype = np.float64)"
   ]
  },
  {
   "cell_type": "code",
   "execution_count": 79,
   "id": "2d6cdd3f-147e-4d25-864f-0a9f70fab01f",
   "metadata": {},
   "outputs": [
    {
     "data": {
      "text/plain": [
       "array([1.  , 5.55, 2.  , 6.9 ])"
      ]
     },
     "execution_count": 79,
     "metadata": {},
     "output_type": "execute_result"
    }
   ],
   "source": [
    "amix7"
   ]
  },
  {
   "cell_type": "code",
   "execution_count": 81,
   "id": "071cac0e-112b-4977-8cf8-0deb09b0b177",
   "metadata": {},
   "outputs": [
    {
     "data": {
      "text/plain": [
       "'pune'"
      ]
     },
     "execution_count": 81,
     "metadata": {},
     "output_type": "execute_result"
    }
   ],
   "source": [
    "arr1[0] "
   ]
  },
  {
   "cell_type": "code",
   "execution_count": 85,
   "id": "87e6679f-2cad-487a-9ab9-d159884f14ff",
   "metadata": {},
   "outputs": [
    {
     "data": {
      "text/plain": [
       "20"
      ]
     },
     "execution_count": 85,
     "metadata": {},
     "output_type": "execute_result"
    }
   ],
   "source": [
    "arr2[1]  "
   ]
  },
  {
   "cell_type": "code",
   "execution_count": 87,
   "id": "2963fd26-3735-4ba4-b879-dbcd20b162cd",
   "metadata": {},
   "outputs": [
    {
     "data": {
      "text/plain": [
       "30"
      ]
     },
     "execution_count": 87,
     "metadata": {},
     "output_type": "execute_result"
    }
   ],
   "source": [
    "arr2[0]+arr2[1]"
   ]
  },
  {
   "cell_type": "code",
   "execution_count": 89,
   "id": "8efc1f15-606a-461f-a6e8-1143d5dd1c64",
   "metadata": {},
   "outputs": [
    {
     "data": {
      "text/plain": [
       "30"
      ]
     },
     "execution_count": 89,
     "metadata": {},
     "output_type": "execute_result"
    }
   ],
   "source": [
    "a2[1,2]"
   ]
  },
  {
   "cell_type": "code",
   "execution_count": 91,
   "id": "339d2455-fb95-4ad0-9ee9-9806fc34b79b",
   "metadata": {},
   "outputs": [
    {
     "data": {
      "text/plain": [
       "300"
      ]
     },
     "execution_count": 91,
     "metadata": {},
     "output_type": "execute_result"
    }
   ],
   "source": [
    "a2[2,2]"
   ]
  },
  {
   "cell_type": "code",
   "execution_count": 93,
   "id": "1cacfae8-1d0e-4b16-8db5-0ebe06299e16",
   "metadata": {},
   "outputs": [
    {
     "data": {
      "text/plain": [
       "1"
      ]
     },
     "execution_count": 93,
     "metadata": {},
     "output_type": "execute_result"
    }
   ],
   "source": [
    "a3[0,0,0]"
   ]
  },
  {
   "cell_type": "code",
   "execution_count": 95,
   "id": "fbcaaeb8-a4a8-4461-b2e5-65ea5fe646f0",
   "metadata": {},
   "outputs": [
    {
     "data": {
      "text/plain": [
       "2"
      ]
     },
     "execution_count": 95,
     "metadata": {},
     "output_type": "execute_result"
    }
   ],
   "source": [
    "a3[0,0,1]"
   ]
  },
  {
   "cell_type": "code",
   "execution_count": 97,
   "id": "5cb90860-4196-4cae-b1e4-0094ca841d72",
   "metadata": {},
   "outputs": [
    {
     "data": {
      "text/plain": [
       "3"
      ]
     },
     "execution_count": 97,
     "metadata": {},
     "output_type": "execute_result"
    }
   ],
   "source": [
    "a3[0,0,2]"
   ]
  },
  {
   "cell_type": "code",
   "execution_count": 99,
   "id": "ffdc605b-1f08-465e-89d5-33ee510838ae",
   "metadata": {},
   "outputs": [
    {
     "data": {
      "text/plain": [
       "10"
      ]
     },
     "execution_count": 99,
     "metadata": {},
     "output_type": "execute_result"
    }
   ],
   "source": [
    "a3[0,1,0]"
   ]
  },
  {
   "cell_type": "code",
   "execution_count": 101,
   "id": "57421757-e4df-4804-bf6f-94622db7023d",
   "metadata": {},
   "outputs": [
    {
     "data": {
      "text/plain": [
       "20"
      ]
     },
     "execution_count": 101,
     "metadata": {},
     "output_type": "execute_result"
    }
   ],
   "source": [
    "a3[0,1,1]"
   ]
  },
  {
   "cell_type": "code",
   "execution_count": 103,
   "id": "aeb3b569-e27e-4c54-8f87-0ba8c3e4ac5b",
   "metadata": {},
   "outputs": [
    {
     "data": {
      "text/plain": [
       "30"
      ]
     },
     "execution_count": 103,
     "metadata": {},
     "output_type": "execute_result"
    }
   ],
   "source": [
    "a3[0,1,2]"
   ]
  },
  {
   "cell_type": "code",
   "execution_count": 105,
   "id": "27dc03e1-8cb2-44fd-af56-1c120b492ee3",
   "metadata": {},
   "outputs": [
    {
     "data": {
      "text/plain": [
       "100"
      ]
     },
     "execution_count": 105,
     "metadata": {},
     "output_type": "execute_result"
    }
   ],
   "source": [
    "a3[1,0,0]"
   ]
  },
  {
   "cell_type": "code",
   "execution_count": 107,
   "id": "1dd38f97-7acf-412a-954b-c200b78b2648",
   "metadata": {},
   "outputs": [
    {
     "data": {
      "text/plain": [
       "4"
      ]
     },
     "execution_count": 107,
     "metadata": {},
     "output_type": "execute_result"
    }
   ],
   "source": [
    "a4[0,0,0,0]"
   ]
  },
  {
   "cell_type": "code",
   "execution_count": 109,
   "id": "6a716173-f7dd-4e90-8058-b547ced1eef4",
   "metadata": {},
   "outputs": [
    {
     "data": {
      "text/plain": [
       "44"
      ]
     },
     "execution_count": 109,
     "metadata": {},
     "output_type": "execute_result"
    }
   ],
   "source": [
    "a4[0,0,0,1]"
   ]
  },
  {
   "cell_type": "code",
   "execution_count": 111,
   "id": "333956fe-3392-4250-b24b-d4d57e8581d6",
   "metadata": {},
   "outputs": [
    {
     "data": {
      "text/plain": [
       "444"
      ]
     },
     "execution_count": 111,
     "metadata": {},
     "output_type": "execute_result"
    }
   ],
   "source": [
    "a4[0,0,0,2]"
   ]
  },
  {
   "cell_type": "code",
   "execution_count": 113,
   "id": "9bc66c5e-4b84-46d1-9bda-54ef97e0d3a2",
   "metadata": {},
   "outputs": [
    {
     "data": {
      "text/plain": [
       "4444"
      ]
     },
     "execution_count": 113,
     "metadata": {},
     "output_type": "execute_result"
    }
   ],
   "source": [
    "a4[0,0,0,3]"
   ]
  },
  {
   "cell_type": "code",
   "execution_count": 115,
   "id": "d94f38d3-0ece-498f-8ca9-82647811c5bd",
   "metadata": {},
   "outputs": [
    {
     "ename": "IndexError",
     "evalue": "index 1 is out of bounds for axis 2 with size 1",
     "output_type": "error",
     "traceback": [
      "\u001b[1;31m---------------------------------------------------------------------------\u001b[0m",
      "\u001b[1;31mIndexError\u001b[0m                                Traceback (most recent call last)",
      "Cell \u001b[1;32mIn[115], line 1\u001b[0m\n\u001b[1;32m----> 1\u001b[0m a4[\u001b[38;5;241m0\u001b[39m,\u001b[38;5;241m0\u001b[39m,\u001b[38;5;241m1\u001b[39m,\u001b[38;5;241m0\u001b[39m]\n",
      "\u001b[1;31mIndexError\u001b[0m: index 1 is out of bounds for axis 2 with size 1"
     ]
    }
   ],
   "source": [
    "a4[0,0,1,0]"
   ]
  },
  {
   "cell_type": "code",
   "execution_count": 117,
   "id": "7a820bd6-274f-4c47-8540-882e8afe4489",
   "metadata": {},
   "outputs": [],
   "source": [
    "a12 = np.array([1,2,3])"
   ]
  },
  {
   "cell_type": "code",
   "execution_count": 121,
   "id": "70844b30-aed7-4bbc-9651-4112166e7870",
   "metadata": {},
   "outputs": [
    {
     "ename": "IndexError",
     "evalue": "index 3 is out of bounds for axis 0 with size 3",
     "output_type": "error",
     "traceback": [
      "\u001b[1;31m---------------------------------------------------------------------------\u001b[0m",
      "\u001b[1;31mIndexError\u001b[0m                                Traceback (most recent call last)",
      "Cell \u001b[1;32mIn[121], line 1\u001b[0m\n\u001b[1;32m----> 1\u001b[0m a12[\u001b[38;5;241m3\u001b[39m]\n",
      "\u001b[1;31mIndexError\u001b[0m: index 3 is out of bounds for axis 0 with size 3"
     ]
    }
   ],
   "source": [
    "a12[3]"
   ]
  },
  {
   "cell_type": "code",
   "execution_count": 125,
   "id": "34900679-a616-4f90-9e3b-0f6c9d9388fc",
   "metadata": {},
   "outputs": [],
   "source": [
    "arrr = np.array([1,2,3,1,2,3,1,2,3])"
   ]
  },
  {
   "cell_type": "code",
   "execution_count": 127,
   "id": "939ea6c4-5b89-47b4-b522-7d27166e063a",
   "metadata": {},
   "outputs": [
    {
     "data": {
      "text/plain": [
       "array([1, 2, 3, 1, 2, 3, 1, 2, 3])"
      ]
     },
     "execution_count": 127,
     "metadata": {},
     "output_type": "execute_result"
    }
   ],
   "source": [
    "arrr"
   ]
  },
  {
   "cell_type": "code",
   "execution_count": 129,
   "id": "e0687dc4-c55d-462e-81a7-7dbcea2d6311",
   "metadata": {},
   "outputs": [
    {
     "data": {
      "text/plain": [
       "array([10, 20, 30, 40, 50])"
      ]
     },
     "execution_count": 129,
     "metadata": {},
     "output_type": "execute_result"
    }
   ],
   "source": [
    "arr2"
   ]
  },
  {
   "cell_type": "code",
   "execution_count": 131,
   "id": "7b60e6cb-f570-4f5d-ac1e-055d51cae71c",
   "metadata": {},
   "outputs": [
    {
     "data": {
      "text/plain": [
       "50"
      ]
     },
     "execution_count": 131,
     "metadata": {},
     "output_type": "execute_result"
    }
   ],
   "source": [
    "arr2[-1]"
   ]
  },
  {
   "cell_type": "code",
   "execution_count": 133,
   "id": "15b3a716-1340-4cf0-82f6-9c8ed8061bb0",
   "metadata": {},
   "outputs": [
    {
     "data": {
      "text/plain": [
       "40"
      ]
     },
     "execution_count": 133,
     "metadata": {},
     "output_type": "execute_result"
    }
   ],
   "source": [
    "arr2[-2]"
   ]
  },
  {
   "cell_type": "code",
   "execution_count": 135,
   "id": "676eabc3-86e9-4e48-bd9a-e523f1a86647",
   "metadata": {},
   "outputs": [
    {
     "data": {
      "text/plain": [
       "array([20, 30, 40, 50])"
      ]
     },
     "execution_count": 135,
     "metadata": {},
     "output_type": "execute_result"
    }
   ],
   "source": [
    "arr2[1:]"
   ]
  },
  {
   "cell_type": "code",
   "execution_count": 137,
   "id": "6a573500-e526-4a33-9f3f-00dbaaf36e41",
   "metadata": {},
   "outputs": [
    {
     "data": {
      "text/plain": [
       "array([10, 20, 30])"
      ]
     },
     "execution_count": 137,
     "metadata": {},
     "output_type": "execute_result"
    }
   ],
   "source": [
    "arr2[:3]"
   ]
  },
  {
   "cell_type": "code",
   "execution_count": 139,
   "id": "9e6d3d36-c062-4776-bd53-c8665c04bba3",
   "metadata": {},
   "outputs": [
    {
     "data": {
      "text/plain": [
       "array([10, 20, 30, 40, 50])"
      ]
     },
     "execution_count": 139,
     "metadata": {},
     "output_type": "execute_result"
    }
   ],
   "source": [
    "arr2[:]"
   ]
  },
  {
   "cell_type": "code",
   "execution_count": 141,
   "id": "8ba12e8f-492c-4219-8b86-cf4f7d05a569",
   "metadata": {},
   "outputs": [
    {
     "data": {
      "text/plain": [
       "array([20, 30, 40])"
      ]
     },
     "execution_count": 141,
     "metadata": {},
     "output_type": "execute_result"
    }
   ],
   "source": [
    "arr2[1:4:1]"
   ]
  },
  {
   "cell_type": "code",
   "execution_count": 143,
   "id": "71e98477-00b9-45f6-b758-9dab3741ac94",
   "metadata": {},
   "outputs": [
    {
     "data": {
      "text/plain": [
       "array([20, 40])"
      ]
     },
     "execution_count": 143,
     "metadata": {},
     "output_type": "execute_result"
    }
   ],
   "source": [
    "arr2[1:4:2]"
   ]
  },
  {
   "cell_type": "code",
   "execution_count": 145,
   "id": "8366dcd2-952c-4278-abc8-f2203f132ded",
   "metadata": {},
   "outputs": [
    {
     "data": {
      "text/plain": [
       "array([10, 40])"
      ]
     },
     "execution_count": 145,
     "metadata": {},
     "output_type": "execute_result"
    }
   ],
   "source": [
    "arr2[:4:3]"
   ]
  },
  {
   "cell_type": "code",
   "execution_count": 147,
   "id": "ef2dd4ce-0f52-4983-9d8e-c4a58bf7917f",
   "metadata": {},
   "outputs": [
    {
     "data": {
      "text/plain": [
       "array([10, 50])"
      ]
     },
     "execution_count": 147,
     "metadata": {},
     "output_type": "execute_result"
    }
   ],
   "source": [
    "arr2[::4]"
   ]
  },
  {
   "cell_type": "code",
   "execution_count": 149,
   "id": "dc39d767-f078-4593-9e80-8e3ff8a6dd7f",
   "metadata": {},
   "outputs": [
    {
     "data": {
      "text/plain": [
       "array([10, 20, 30, 40, 50])"
      ]
     },
     "execution_count": 149,
     "metadata": {},
     "output_type": "execute_result"
    }
   ],
   "source": [
    "arr2[::]"
   ]
  },
  {
   "cell_type": "code",
   "execution_count": 151,
   "id": "09614563-5739-4db4-bc3e-6cc76e55928b",
   "metadata": {},
   "outputs": [
    {
     "name": "stdout",
     "output_type": "stream",
     "text": [
      "10\n",
      "20\n",
      "30\n",
      "40\n",
      "50\n"
     ]
    }
   ],
   "source": [
    "for i in arr2:\n",
    "  print(i)"
   ]
  },
  {
   "cell_type": "code",
   "execution_count": 153,
   "id": "ecb50d59-f578-4589-a161-e70228eb8b12",
   "metadata": {},
   "outputs": [
    {
     "name": "stdout",
     "output_type": "stream",
     "text": [
      "(array([1], dtype=int64),)\n"
     ]
    }
   ],
   "source": [
    "x = np.where(arr2 == 20)\n",
    "print(x)"
   ]
  },
  {
   "cell_type": "code",
   "execution_count": 155,
   "id": "66e39806-b45a-4fcf-903e-647473cf6702",
   "metadata": {},
   "outputs": [
    {
     "name": "stdout",
     "output_type": "stream",
     "text": [
      "(array([4], dtype=int64),)\n"
     ]
    }
   ],
   "source": [
    "x = np.where(arr2 == 50)\n",
    "print(x)"
   ]
  },
  {
   "cell_type": "code",
   "execution_count": 157,
   "id": "c48ee01c-05fb-43f2-abf1-24f4fae30339",
   "metadata": {},
   "outputs": [
    {
     "name": "stdout",
     "output_type": "stream",
     "text": [
      "(array([1, 4, 7], dtype=int64),)\n"
     ]
    }
   ],
   "source": [
    "x = np.where(arrr == 2)\n",
    "print(x)"
   ]
  },
  {
   "cell_type": "code",
   "execution_count": 159,
   "id": "8596e592-9fe4-4f4d-8c67-67736aff4c4d",
   "metadata": {},
   "outputs": [],
   "source": [
    "arraysort = np.array([2,1,5,3,7,5,9,8,5,7,3])"
   ]
  },
  {
   "cell_type": "code",
   "execution_count": 161,
   "id": "4fdfebda-a47a-4f72-9361-61208af4a872",
   "metadata": {},
   "outputs": [
    {
     "data": {
      "text/plain": [
       "array([1, 2, 3, 3, 5, 5, 5, 7, 7, 8, 9])"
      ]
     },
     "execution_count": 161,
     "metadata": {},
     "output_type": "execute_result"
    }
   ],
   "source": [
    "np.sort(arraysort)"
   ]
  },
  {
   "cell_type": "code",
   "execution_count": 163,
   "id": "9c735b2a-afff-4143-9ba4-1392000413eb",
   "metadata": {},
   "outputs": [
    {
     "data": {
      "text/plain": [
       "array([10, 20, 30, 40, 50, 60])"
      ]
     },
     "execution_count": 163,
     "metadata": {},
     "output_type": "execute_result"
    }
   ],
   "source": [
    "np.insert(arr2,5,60)"
   ]
  },
  {
   "cell_type": "code",
   "execution_count": 165,
   "id": "e0fb0486-5529-4543-a64d-5ff7d82454c6",
   "metadata": {},
   "outputs": [
    {
     "data": {
      "text/plain": [
       "array([ 2,  1,  5,  3,  7,  5,  9,  8,  5,  7,  3, 10])"
      ]
     },
     "execution_count": 165,
     "metadata": {},
     "output_type": "execute_result"
    }
   ],
   "source": [
    "np.insert(arraysort,11,10)"
   ]
  },
  {
   "cell_type": "code",
   "execution_count": 167,
   "id": "8c451d0c-07a6-44cc-948c-cec715651493",
   "metadata": {},
   "outputs": [
    {
     "data": {
      "text/plain": [
       "array([100,   2,   1,   5,   3,   7,   5,   9,   8,   5,   7,   3])"
      ]
     },
     "execution_count": 167,
     "metadata": {},
     "output_type": "execute_result"
    }
   ],
   "source": [
    "np.insert(arraysort,0,100)"
   ]
  },
  {
   "cell_type": "code",
   "execution_count": 169,
   "id": "e792fc7a-1313-4419-9bd2-b56382f27be1",
   "metadata": {},
   "outputs": [
    {
     "data": {
      "text/plain": [
       "array([1, 5, 3, 7, 5, 9, 8, 5, 7, 3])"
      ]
     },
     "execution_count": 169,
     "metadata": {},
     "output_type": "execute_result"
    }
   ],
   "source": [
    "np.delete(arraysort,0)"
   ]
  },
  {
   "cell_type": "code",
   "execution_count": 171,
   "id": "5a1b15b4-3379-464f-8f77-3c247e744969",
   "metadata": {},
   "outputs": [
    {
     "data": {
      "text/plain": [
       "array([2, 1, 5, 3, 7, 5, 9, 8, 5, 7, 3])"
      ]
     },
     "execution_count": 171,
     "metadata": {},
     "output_type": "execute_result"
    }
   ],
   "source": [
    "arraysort"
   ]
  },
  {
   "cell_type": "code",
   "execution_count": 173,
   "id": "a0b37f4c-a445-40ce-9dfa-77164ce2f6a4",
   "metadata": {},
   "outputs": [],
   "source": [
    "arrr1 = np.insert(arr2,5,60)"
   ]
  },
  {
   "cell_type": "code",
   "execution_count": 175,
   "id": "96683a3c-a191-4bed-9f52-2bdeed73bcce",
   "metadata": {},
   "outputs": [
    {
     "data": {
      "text/plain": [
       "array([10, 20, 30, 40, 50, 60])"
      ]
     },
     "execution_count": 175,
     "metadata": {},
     "output_type": "execute_result"
    }
   ],
   "source": [
    "arrr1"
   ]
  },
  {
   "cell_type": "code",
   "execution_count": 177,
   "id": "5b4a230e-2143-42c6-a8a1-2c77542b1e9f",
   "metadata": {},
   "outputs": [
    {
     "data": {
      "text/plain": [
       "array([10, 20, 30, 40, 50])"
      ]
     },
     "execution_count": 177,
     "metadata": {},
     "output_type": "execute_result"
    }
   ],
   "source": [
    "arr2"
   ]
  },
  {
   "cell_type": "code",
   "execution_count": 179,
   "id": "baf022d4-46bb-4dba-a4df-9d19e6de17cd",
   "metadata": {},
   "outputs": [],
   "source": [
    "index = [0,1,2]"
   ]
  },
  {
   "cell_type": "code",
   "execution_count": 181,
   "id": "66c3224c-567a-4be3-ac37-1f62adf7df7c",
   "metadata": {},
   "outputs": [],
   "source": [
    "arrr2 = np.delete(arr2,index)"
   ]
  },
  {
   "cell_type": "code",
   "execution_count": 183,
   "id": "dc2e6991-a8f2-4708-99f3-f9b71c0631bd",
   "metadata": {},
   "outputs": [
    {
     "data": {
      "text/plain": [
       "array([40, 50])"
      ]
     },
     "execution_count": 183,
     "metadata": {},
     "output_type": "execute_result"
    }
   ],
   "source": [
    "arrr2"
   ]
  },
  {
   "cell_type": "code",
   "execution_count": 185,
   "id": "90b952c0-862e-478d-95c2-379d81fc6ef5",
   "metadata": {},
   "outputs": [
    {
     "data": {
      "text/plain": [
       "array([10, 20, 30, 40, 50])"
      ]
     },
     "execution_count": 185,
     "metadata": {},
     "output_type": "execute_result"
    }
   ],
   "source": [
    "arr2"
   ]
  },
  {
   "cell_type": "code",
   "execution_count": 187,
   "id": "c3854e72-3166-49bf-8e12-e1531928f61c",
   "metadata": {},
   "outputs": [
    {
     "data": {
      "text/plain": [
       "array([50, 40, 30, 20, 10])"
      ]
     },
     "execution_count": 187,
     "metadata": {},
     "output_type": "execute_result"
    }
   ],
   "source": [
    "np.flip(arr2)"
   ]
  },
  {
   "cell_type": "code",
   "execution_count": 189,
   "id": "77a2680e-92b3-482e-b8c1-b8347684ea62",
   "metadata": {},
   "outputs": [
    {
     "data": {
      "text/plain": [
       "array([10, 20, 30, 40, 50])"
      ]
     },
     "execution_count": 189,
     "metadata": {},
     "output_type": "execute_result"
    }
   ],
   "source": [
    "arr2"
   ]
  },
  {
   "cell_type": "code",
   "execution_count": 191,
   "id": "ad561106-d72e-4c8e-a4c5-5a081eb6576e",
   "metadata": {},
   "outputs": [],
   "source": [
    "arrflip = np.flip(arr2)"
   ]
  },
  {
   "cell_type": "code",
   "execution_count": 193,
   "id": "c59885dd-0f7b-4706-8721-96d6b68e01ad",
   "metadata": {},
   "outputs": [
    {
     "data": {
      "text/plain": [
       "array([50, 40, 30, 20, 10])"
      ]
     },
     "execution_count": 193,
     "metadata": {},
     "output_type": "execute_result"
    }
   ],
   "source": [
    "arrflip"
   ]
  },
  {
   "cell_type": "code",
   "execution_count": 195,
   "id": "d38b0694-93e3-4681-b720-2daf3616fc56",
   "metadata": {},
   "outputs": [],
   "source": [
    "arr2[0] = 100"
   ]
  },
  {
   "cell_type": "code",
   "execution_count": 197,
   "id": "ce1c16ea-87b7-415a-8706-d17a528cf711",
   "metadata": {},
   "outputs": [
    {
     "data": {
      "text/plain": [
       "array([100,  20,  30,  40,  50])"
      ]
     },
     "execution_count": 197,
     "metadata": {},
     "output_type": "execute_result"
    }
   ],
   "source": [
    "arr2"
   ]
  },
  {
   "cell_type": "code",
   "execution_count": 199,
   "id": "00a21402-2813-47d8-9f87-0d86857c06c4",
   "metadata": {},
   "outputs": [],
   "source": [
    "arr2.sort()"
   ]
  },
  {
   "cell_type": "code",
   "execution_count": 201,
   "id": "07a4bde3-23c0-4fde-9cd8-86a9b51f5d37",
   "metadata": {},
   "outputs": [
    {
     "data": {
      "text/plain": [
       "array([ 20,  30,  40,  50, 100])"
      ]
     },
     "execution_count": 201,
     "metadata": {},
     "output_type": "execute_result"
    }
   ],
   "source": [
    "arr2"
   ]
  },
  {
   "cell_type": "code",
   "execution_count": 203,
   "id": "8cd1a47d-1f43-4166-b53e-2b31e1703cd6",
   "metadata": {},
   "outputs": [
    {
     "data": {
      "text/plain": [
       "array([  20,   30,   40,   50,  100, 1000])"
      ]
     },
     "execution_count": 203,
     "metadata": {},
     "output_type": "execute_result"
    }
   ],
   "source": [
    "np.append(arr2,1000)"
   ]
  },
  {
   "cell_type": "code",
   "execution_count": 205,
   "id": "7e6622fe-fa92-443b-9afd-350941efc064",
   "metadata": {},
   "outputs": [
    {
     "data": {
      "text/plain": [
       "array([ 20,  30,  40,  50, 100])"
      ]
     },
     "execution_count": 205,
     "metadata": {},
     "output_type": "execute_result"
    }
   ],
   "source": [
    "arr2"
   ]
  },
  {
   "cell_type": "code",
   "execution_count": 207,
   "id": "7e04d179-a5b9-4d36-8156-27ab9e291bb1",
   "metadata": {},
   "outputs": [
    {
     "ename": "AttributeError",
     "evalue": "'numpy.ndarray' object has no attribute 'append'",
     "output_type": "error",
     "traceback": [
      "\u001b[1;31m---------------------------------------------------------------------------\u001b[0m",
      "\u001b[1;31mAttributeError\u001b[0m                            Traceback (most recent call last)",
      "Cell \u001b[1;32mIn[207], line 1\u001b[0m\n\u001b[1;32m----> 1\u001b[0m arr2\u001b[38;5;241m.\u001b[39mappend(\u001b[38;5;241m1000\u001b[39m)\n",
      "\u001b[1;31mAttributeError\u001b[0m: 'numpy.ndarray' object has no attribute 'append'"
     ]
    }
   ],
   "source": [
    "arr2.append(1000)"
   ]
  },
  {
   "cell_type": "code",
   "execution_count": null,
   "id": "2b2c7eaf-78a1-4ccb-8e84-be03ee84e467",
   "metadata": {},
   "outputs": [],
   "source": []
  }
 ],
 "metadata": {
  "kernelspec": {
   "display_name": "Python 3 (ipykernel)",
   "language": "python",
   "name": "python3"
  },
  "language_info": {
   "codemirror_mode": {
    "name": "ipython",
    "version": 3
   },
   "file_extension": ".py",
   "mimetype": "text/x-python",
   "name": "python",
   "nbconvert_exporter": "python",
   "pygments_lexer": "ipython3",
   "version": "3.12.4"
  }
 },
 "nbformat": 4,
 "nbformat_minor": 5
}
