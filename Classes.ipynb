{
 "cells": [
  {
   "cell_type": "markdown",
   "id": "d0413955-998d-459d-9893-01351d65365f",
   "metadata": {},
   "source": [
    "**a class is a blueprint for creating objects, which represent data and behavior in an organized and reusable structure. Classes encapsulate data (attributes) and functionality (methods) into a single unit, which makes them essential for object-oriented programming (OOP).**"
   ]
  },
  {
   "cell_type": "code",
   "execution_count": 3,
   "id": "61317925-1a1a-4f84-b56a-f3ff0c48e701",
   "metadata": {},
   "outputs": [
    {
     "name": "stdout",
     "output_type": "stream",
     "text": [
      "<__main__.class1 object at 0x0000029150075160>\n",
      "darshil\n",
      "1\n"
     ]
    }
   ],
   "source": [
    "class class1:\n",
    "    v1 = \"darshil\"\n",
    "    v2 = 1\n",
    "\n",
    "obj1 = class1()\n",
    "print(obj1)\n",
    "print(obj1.v1)\n",
    "print(obj1.v2)"
   ]
  },
  {
   "cell_type": "code",
   "execution_count": 5,
   "id": "842c5bff-9ede-486e-a4c1-608a815b5b84",
   "metadata": {},
   "outputs": [
    {
     "name": "stdout",
     "output_type": "stream",
     "text": [
      "<__main__.class2 object at 0x0000029150987260>\n",
      "darshil\n",
      "1\n"
     ]
    }
   ],
   "source": [
    "class class2():\n",
    "    v1 = \"darshil\"\n",
    "    v2 = 1\n",
    "\n",
    "obj11 = class2()\n",
    "print(obj11)\n",
    "print(obj11.v1)\n",
    "print(obj11.v2)"
   ]
  },
  {
   "cell_type": "markdown",
   "id": "8e69f9c1-86a8-4a20-8815-ac0725095d2d",
   "metadata": {},
   "source": [
    "**an object is an instance of a class, which is a blueprint for creating individual instances with specific attributes (data) and methods (functions). Everything in Python, such as numbers, strings, functions, lists, and even classes, is an object, as Python is an object-oriented programming (OOP) language.**"
   ]
  },
  {
   "cell_type": "code",
   "execution_count": 7,
   "id": "1693a113-19a0-4963-a9c2-7de3be8798c5",
   "metadata": {},
   "outputs": [
    {
     "name": "stdout",
     "output_type": "stream",
     "text": [
      "darshil\n",
      "dipak\n"
     ]
    }
   ],
   "source": [
    "obj2 = class1()\n",
    "print(obj2.v1)\n",
    "obj2.v1 = \"dipak\"\n",
    "print(obj2.v1)"
   ]
  },
  {
   "cell_type": "markdown",
   "id": "5ea2e053-02e9-4191-b91c-5deef33810ff",
   "metadata": {},
   "source": [
    "**a member function (also known as a method) is a function that is defined inside a class and is intended to operate on instances (objects) of that class. Member functions allow objects to perform specific actions and interact with the object's attributes (data)**"
   ]
  },
  {
   "cell_type": "code",
   "execution_count": 9,
   "id": "2346342b-1e80-4aa1-8e46-790334800abc",
   "metadata": {},
   "outputs": [
    {
     "name": "stdout",
     "output_type": "stream",
     "text": [
      "name--> darshil\n",
      "name--> shah\n"
     ]
    }
   ],
   "source": [
    "class class2:\n",
    "    name = \"darshil\"\n",
    "    roll_no = 1\n",
    "\n",
    "    def abc(self):\n",
    "        print(\"name-->\",self.name)\n",
    "\n",
    "obj11 = class2()\n",
    "obj11.abc()\n",
    "obj11.name = \"shah\"\n",
    "obj11.abc()"
   ]
  },
  {
   "cell_type": "markdown",
   "id": "3e901f3d-ad68-4259-966c-c8c0b8227b39",
   "metadata": {},
   "source": [
    "**a constructor is a special method used to initialize newly created objects of a class. The constructor method is automatically called when an object is created from a class. In Python, the constructor is defined using the __init__ method.**"
   ]
  },
  {
   "cell_type": "code",
   "execution_count": 11,
   "id": "44d8fe59-2c4c-4fc1-8c6d-f957f2ffa763",
   "metadata": {},
   "outputs": [
    {
     "name": "stdout",
     "output_type": "stream",
     "text": [
      "Bhavya\n",
      "name--> Bhavya\n"
     ]
    }
   ],
   "source": [
    "class class3:\n",
    "    def __init__(self,name):\n",
    "        self.name = name\n",
    "\n",
    "    roll_no = 1\n",
    "\n",
    "    def abc(self):\n",
    "        print(\"name-->\",self.name)\n",
    "\n",
    "obj111 = class3(\"Bhavya\")\n",
    "print(obj111.name)\n",
    "obj111.abc()"
   ]
  },
  {
   "cell_type": "code",
   "execution_count": null,
   "id": "8438021d-5630-4efe-a892-c66ed4f4a931",
   "metadata": {},
   "outputs": [],
   "source": []
  }
 ],
 "metadata": {
  "kernelspec": {
   "display_name": "Python 3 (ipykernel)",
   "language": "python",
   "name": "python3"
  },
  "language_info": {
   "codemirror_mode": {
    "name": "ipython",
    "version": 3
   },
   "file_extension": ".py",
   "mimetype": "text/x-python",
   "name": "python",
   "nbconvert_exporter": "python",
   "pygments_lexer": "ipython3",
   "version": "3.12.4"
  }
 },
 "nbformat": 4,
 "nbformat_minor": 5
}
