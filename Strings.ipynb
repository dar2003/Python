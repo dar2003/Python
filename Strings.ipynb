{
 "cells": [
  {
   "cell_type": "code",
   "execution_count": 1,
   "id": "d974eb70-4958-4019-99d0-7a821b548e20",
   "metadata": {},
   "outputs": [
    {
     "name": "stdout",
     "output_type": "stream",
     "text": [
      "Hello and welcome dosto\n",
      "to 5 minutes engineering,\n",
      "aaj ka session bada kamal ka hone wala hai\n"
     ]
    }
   ],
   "source": [
    "X = '''Hello and welcome dosto\n",
    "to 5 minutes engineering,\n",
    "aaj ka session bada kamal ka hone wala hai'''\n",
    "print(X)"
   ]
  },
  {
   "cell_type": "code",
   "execution_count": 3,
   "id": "65139ffe-3fd8-4a04-b323-b7f6cfac7a47",
   "metadata": {},
   "outputs": [
    {
     "data": {
      "text/plain": [
       "str"
      ]
     },
     "execution_count": 3,
     "metadata": {},
     "output_type": "execute_result"
    }
   ],
   "source": [
    "type(X)"
   ]
  },
  {
   "cell_type": "code",
   "execution_count": 7,
   "id": "444596bf-5a87-4fd7-9741-1965a7ace428",
   "metadata": {},
   "outputs": [
    {
     "name": "stdout",
     "output_type": "stream",
     "text": [
      "d\n",
      "a\n",
      "r\n",
      "s\n",
      "h\n",
      "i\n",
      "l\n"
     ]
    }
   ],
   "source": [
    "Z = 'darshil'\n",
    "print(Z[0])\n",
    "print(Z[1])\n",
    "print(Z[2])\n",
    "print(Z[3])\n",
    "print(Z[4])\n",
    "print(Z[5])\n",
    "print(Z[6])"
   ]
  },
  {
   "cell_type": "code",
   "execution_count": 9,
   "id": "03842056-6740-43f7-b985-397c8865ba86",
   "metadata": {},
   "outputs": [
    {
     "name": "stdout",
     "output_type": "stream",
     "text": [
      "7\n"
     ]
    }
   ],
   "source": [
    "print(len(Z))"
   ]
  },
  {
   "cell_type": "code",
   "execution_count": 11,
   "id": "ae557a2a-9c9d-4881-aa45-e1865a5f09fe",
   "metadata": {},
   "outputs": [],
   "source": [
    "d= 'd a r s h i l s h a h '"
   ]
  },
  {
   "cell_type": "code",
   "execution_count": 13,
   "id": "15c39d9c-3a2c-43ff-a496-c50d99924b77",
   "metadata": {},
   "outputs": [
    {
     "name": "stdout",
     "output_type": "stream",
     "text": [
      "22\n"
     ]
    }
   ],
   "source": [
    "print(len(d))\n"
   ]
  },
  {
   "cell_type": "code",
   "execution_count": null,
   "id": "41837ce8-cc00-41b8-9998-a7accca81824",
   "metadata": {},
   "outputs": [],
   "source": []
  }
 ],
 "metadata": {
  "kernelspec": {
   "display_name": "Python 3 (ipykernel)",
   "language": "python",
   "name": "python3"
  },
  "language_info": {
   "codemirror_mode": {
    "name": "ipython",
    "version": 3
   },
   "file_extension": ".py",
   "mimetype": "text/x-python",
   "name": "python",
   "nbconvert_exporter": "python",
   "pygments_lexer": "ipython3",
   "version": "3.12.4"
  }
 },
 "nbformat": 4,
 "nbformat_minor": 5
}
